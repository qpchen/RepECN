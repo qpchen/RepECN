{
 "cells": [
  {
   "cell_type": "markdown",
   "id": "99bfe7bd-7a37-4cd0-8a68-82e8ea245159",
   "metadata": {
    "tags": []
   },
   "source": [
    "# 移动SR图像到matalb中"
   ]
  },
  {
   "cell_type": "code",
   "execution_count": 1,
   "id": "463ad7e8-7d6e-4833-957b-6224d8b165b2",
   "metadata": {
    "execution": {
     "iopub.execute_input": "2023-03-23T14:24:10.355107Z",
     "iopub.status.busy": "2023-03-23T14:24:10.354400Z",
     "iopub.status.idle": "2023-03-23T14:24:10.698451Z",
     "shell.execute_reply": "2023-03-23T14:24:10.697085Z",
     "shell.execute_reply.started": "2023-03-23T14:24:10.355027Z"
    },
    "scrolled": true,
    "tags": []
   },
   "outputs": [
    {
     "name": "stdout",
     "output_type": "stream",
     "text": [
      "copy from ../repecn/repecn_v5t_i14_x2_test/results-Set5/* to ./SR/BI/v5t_i14/Set5/x2/\n",
      "copy from ../repecn/repecn_v5t_i14_x2_test/results-Set14/* to ./SR/BI/v5t_i14/Set14/x2/\n",
      "copy from ../repecn/repecn_v5t_i14_x2_test/results-B100/* to ./SR/BI/v5t_i14/B100/x2/\n",
      "copy from ../repecn/repecn_v5t_i14_x2_test/results-Urban100/* to ./SR/BI/v5t_i14/Urban100/x2/\n",
      "copy from ../repecn/repecn_v5t_i14_x2_test/results-Manga109/* to ./SR/BI/v5t_i14/Manga109/x2/\n",
      "copy from ../repecn/repecn_v5t_i14_x3_test/results-Set5/* to ./SR/BI/v5t_i14/Set5/x3/\n",
      "copy from ../repecn/repecn_v5t_i14_x3_test/results-Set14/* to ./SR/BI/v5t_i14/Set14/x3/\n",
      "copy from ../repecn/repecn_v5t_i14_x3_test/results-B100/* to ./SR/BI/v5t_i14/B100/x3/\n",
      "copy from ../repecn/repecn_v5t_i14_x3_test/results-Urban100/* to ./SR/BI/v5t_i14/Urban100/x3/\n",
      "copy from ../repecn/repecn_v5t_i14_x3_test/results-Manga109/* to ./SR/BI/v5t_i14/Manga109/x3/\n",
      "copy from ../repecn/repecn_v5t_i14_x4_test/results-Set5/* to ./SR/BI/v5t_i14/Set5/x4/\n",
      "copy from ../repecn/repecn_v5t_i14_x4_test/results-Set14/* to ./SR/BI/v5t_i14/Set14/x4/\n",
      "copy from ../repecn/repecn_v5t_i14_x4_test/results-B100/* to ./SR/BI/v5t_i14/B100/x4/\n",
      "copy from ../repecn/repecn_v5t_i14_x4_test/results-Urban100/* to ./SR/BI/v5t_i14/Urban100/x4/\n",
      "copy from ../repecn/repecn_v5t_i14_x4_test/results-Manga109/* to ./SR/BI/v5t_i14/Manga109/x4/\n",
      "copy from ../repecn/repecn_v5s_f11_x2_test/results-Set5/* to ./SR/BI/v5s_f11/Set5/x2/\n",
      "copy from ../repecn/repecn_v5s_f11_x2_test/results-Set14/* to ./SR/BI/v5s_f11/Set14/x2/\n",
      "copy from ../repecn/repecn_v5s_f11_x2_test/results-B100/* to ./SR/BI/v5s_f11/B100/x2/\n",
      "copy from ../repecn/repecn_v5s_f11_x2_test/results-Urban100/* to ./SR/BI/v5s_f11/Urban100/x2/\n",
      "copy from ../repecn/repecn_v5s_f11_x2_test/results-Manga109/* to ./SR/BI/v5s_f11/Manga109/x2/\n",
      "copy from ../repecn/repecn_v5s_f11_x3_test/results-Set5/* to ./SR/BI/v5s_f11/Set5/x3/\n",
      "copy from ../repecn/repecn_v5s_f11_x3_test/results-Set14/* to ./SR/BI/v5s_f11/Set14/x3/\n",
      "copy from ../repecn/repecn_v5s_f11_x3_test/results-B100/* to ./SR/BI/v5s_f11/B100/x3/\n",
      "copy from ../repecn/repecn_v5s_f11_x3_test/results-Urban100/* to ./SR/BI/v5s_f11/Urban100/x3/\n",
      "copy from ../repecn/repecn_v5s_f11_x3_test/results-Manga109/* to ./SR/BI/v5s_f11/Manga109/x3/\n",
      "copy from ../repecn/repecn_v5s_f11_x4_test/results-Set5/* to ./SR/BI/v5s_f11/Set5/x4/\n",
      "copy from ../repecn/repecn_v5s_f11_x4_test/results-Set14/* to ./SR/BI/v5s_f11/Set14/x4/\n",
      "copy from ../repecn/repecn_v5s_f11_x4_test/results-B100/* to ./SR/BI/v5s_f11/B100/x4/\n",
      "copy from ../repecn/repecn_v5s_f11_x4_test/results-Urban100/* to ./SR/BI/v5s_f11/Urban100/x4/\n",
      "copy from ../repecn/repecn_v5s_f11_x4_test/results-Manga109/* to ./SR/BI/v5s_f11/Manga109/x4/\n",
      "copy from ../repecn/repecn_v5_ps_g12_x2_test/results-Set5/* to ./SR/BI/v5_ps_g12/Set5/x2/\n",
      "copy from ../repecn/repecn_v5_ps_g12_x2_test/results-Set14/* to ./SR/BI/v5_ps_g12/Set14/x2/\n",
      "copy from ../repecn/repecn_v5_ps_g12_x2_test/results-B100/* to ./SR/BI/v5_ps_g12/B100/x2/\n",
      "copy from ../repecn/repecn_v5_ps_g12_x2_test/results-Urban100/* to ./SR/BI/v5_ps_g12/Urban100/x2/\n",
      "copy from ../repecn/repecn_v5_ps_g12_x2_test/results-Manga109/* to ./SR/BI/v5_ps_g12/Manga109/x2/\n",
      "copy from ../repecn/repecn_v5_ps_g12_x3_test/results-Set5/* to ./SR/BI/v5_ps_g12/Set5/x3/\n",
      "copy from ../repecn/repecn_v5_ps_g12_x3_test/results-Set14/* to ./SR/BI/v5_ps_g12/Set14/x3/\n",
      "copy from ../repecn/repecn_v5_ps_g12_x3_test/results-B100/* to ./SR/BI/v5_ps_g12/B100/x3/\n",
      "copy from ../repecn/repecn_v5_ps_g12_x3_test/results-Urban100/* to ./SR/BI/v5_ps_g12/Urban100/x3/\n",
      "copy from ../repecn/repecn_v5_ps_g12_x3_test/results-Manga109/* to ./SR/BI/v5_ps_g12/Manga109/x3/\n",
      "copy from ../repecn/repecn_v5_ps_g12_x4_test/results-Set5/* to ./SR/BI/v5_ps_g12/Set5/x4/\n",
      "copy from ../repecn/repecn_v5_ps_g12_x4_test/results-Set14/* to ./SR/BI/v5_ps_g12/Set14/x4/\n",
      "copy from ../repecn/repecn_v5_ps_g12_x4_test/results-B100/* to ./SR/BI/v5_ps_g12/B100/x4/\n",
      "copy from ../repecn/repecn_v5_ps_g12_x4_test/results-Urban100/* to ./SR/BI/v5_ps_g12/Urban100/x4/\n",
      "copy from ../repecn/repecn_v5_ps_g12_x4_test/results-Manga109/* to ./SR/BI/v5_ps_g12/Manga109/x4/\n"
     ]
    }
   ],
   "source": [
    "import os\n",
    "\n",
    "save_dir = './SR/BI/'\n",
    "model_dir = '../repecn/repecn_'\n",
    "models = ['v5t_i14', 'v5s_f11', 'v5_ps_g12']\n",
    "scales = ['2', '3', '4']\n",
    "datasets = ['Set5', 'Set14', 'B100', 'Urban100', 'Manga109']\n",
    "for model in models:\n",
    "    for s in scales:\n",
    "        for d in datasets:\n",
    "            # record_dir = model_dir + model + '_x'+ s + '_test/results-' + d\n",
    "            record_dir = model_dir + model + '_x'+ s + '_test/' + d\n",
    "            if not os.path.exists(record_dir):\n",
    "                print(f\"training record path {record_dir} does not exist\")\n",
    "                continue\n",
    "            record_imgs = record_dir + os.sep + '*'\n",
    "            test_dir = save_dir + model + os.sep + d + os.sep + 'x' + s + os.sep\n",
    "            if not os.path.exists(test_dir):\n",
    "                os.makedirs(test_dir, exist_ok=True)\n",
    "            print(f\"copy from {record_imgs} to {test_dir}\")\n",
    "            os.popen('cp ' + record_imgs + ' ' + test_dir)"
   ]
  },
  {
   "cell_type": "code",
   "execution_count": 2,
   "id": "7702c614-f3f0-4e2b-bc38-445346952821",
   "metadata": {
    "execution": {
     "iopub.execute_input": "2023-04-15T12:41:24.977934Z",
     "iopub.status.busy": "2023-04-15T12:41:24.977118Z",
     "iopub.status.idle": "2023-04-15T12:41:25.142206Z",
     "shell.execute_reply": "2023-04-15T12:41:25.140409Z",
     "shell.execute_reply.started": "2023-04-15T12:41:24.977878Z"
    },
    "scrolled": true,
    "tags": []
   },
   "outputs": [
    {
     "name": "stdout",
     "output_type": "stream",
     "text": [
      "copy from ../experiment/LatticeNet_x2/results-Set5/* to ./SR/BI/LatticeNet/Set5/x2/\n",
      "copy from ../experiment/LatticeNet_x2/results-Set14/* to ./SR/BI/LatticeNet/Set14/x2/\n",
      "copy from ../experiment/LatticeNet_x2/results-B100/* to ./SR/BI/LatticeNet/B100/x2/\n",
      "copy from ../experiment/LatticeNet_x2/results-Urban100/* to ./SR/BI/LatticeNet/Urban100/x2/\n",
      "copy from ../experiment/LatticeNet_x2/results-Manga109/* to ./SR/BI/LatticeNet/Manga109/x2/\n",
      "copy from ../experiment/LatticeNet_x3/results-Set5/* to ./SR/BI/LatticeNet/Set5/x3/\n",
      "copy from ../experiment/LatticeNet_x3/results-Set14/* to ./SR/BI/LatticeNet/Set14/x3/\n",
      "copy from ../experiment/LatticeNet_x3/results-B100/* to ./SR/BI/LatticeNet/B100/x3/\n",
      "copy from ../experiment/LatticeNet_x3/results-Urban100/* to ./SR/BI/LatticeNet/Urban100/x3/\n",
      "copy from ../experiment/LatticeNet_x3/results-Manga109/* to ./SR/BI/LatticeNet/Manga109/x3/\n",
      "copy from ../experiment/LatticeNet_x4/results-Set5/* to ./SR/BI/LatticeNet/Set5/x4/\n",
      "copy from ../experiment/LatticeNet_x4/results-Set14/* to ./SR/BI/LatticeNet/Set14/x4/\n",
      "copy from ../experiment/LatticeNet_x4/results-B100/* to ./SR/BI/LatticeNet/B100/x4/\n",
      "copy from ../experiment/LatticeNet_x4/results-Urban100/* to ./SR/BI/LatticeNet/Urban100/x4/\n",
      "copy from ../experiment/LatticeNet_x4/results-Manga109/* to ./SR/BI/LatticeNet/Manga109/x4/\n"
     ]
    }
   ],
   "source": [
    "import os\n",
    "\n",
    "save_dir = './SR/BI/'\n",
    "model_dir = '../experiment/'\n",
    "models = ['LatticeNet']\n",
    "scales = ['2', '3', '4']\n",
    "datasets = ['Set5', 'Set14', 'B100', 'Urban100', 'Manga109']\n",
    "for model in models:\n",
    "    for s in scales:\n",
    "        for d in datasets:\n",
    "            # record_dir = model_dir + model + '_x'+ s + '_test/results-' + d\n",
    "            record_dir = model_dir + model + '_x'+ s + '/results-' + d\n",
    "            # record_dir = model_dir + model + '_x'+ s + '_test/' + d\n",
    "            if not os.path.exists(record_dir):\n",
    "                print(f\"training record path {record_dir} does not exist\")\n",
    "                continue\n",
    "            record_imgs = record_dir + os.sep + '*'\n",
    "            test_dir = save_dir + model + os.sep + d + os.sep + 'x' + s + os.sep\n",
    "            if not os.path.exists(test_dir):\n",
    "                os.makedirs(test_dir, exist_ok=True)\n",
    "            print(f\"copy from {record_imgs} to {test_dir}\")\n",
    "            os.popen('cp ' + record_imgs + ' ' + test_dir)"
   ]
  },
  {
   "cell_type": "code",
   "execution_count": 12,
   "id": "9f89f96c-f40b-4087-8c0f-a097db11f2ad",
   "metadata": {
    "execution": {
     "iopub.execute_input": "2023-04-23T15:57:18.996539Z",
     "iopub.status.busy": "2023-04-23T15:57:18.994995Z",
     "iopub.status.idle": "2023-04-23T15:57:19.045826Z",
     "shell.execute_reply": "2023-04-23T15:57:19.044035Z",
     "shell.execute_reply.started": "2023-04-23T15:57:18.996455Z"
    },
    "tags": []
   },
   "outputs": [
    {
     "name": "stdout",
     "output_type": "stream",
     "text": [
      "copy from ../repecn_v5/v5fs_SmoothL1_x4_test/results-Set5/* to ./SR/BI/v5fs/Set5/x4/\n",
      "copy from ../repecn_v5/v5fs_SmoothL1_x4_test/results-Set14/* to ./SR/BI/v5fs/Set14/x4/\n",
      "copy from ../repecn_v5/v5fs_SmoothL1_x4_test/results-B100/* to ./SR/BI/v5fs/B100/x4/\n",
      "copy from ../repecn_v5/v5fs_SmoothL1_x4_test/results-Urban100/* to ./SR/BI/v5fs/Urban100/x4/\n",
      "copy from ../repecn_v5/v5fs_SmoothL1_x4_test/results-Manga109/* to ./SR/BI/v5fs/Manga109/x4/\n"
     ]
    }
   ],
   "source": [
    "import os\n",
    "\n",
    "save_dir = './SR/BI/'\n",
    "model_dir = '../repecn_v5/'\n",
    "# models = ['v5fbxt', 'v5fbt', 'v5fblt']\n",
    "# scales = ['2', '3', '4']\n",
    "models = ['v5fs']\n",
    "scales = ['4']\n",
    "datasets = ['Set5', 'Set14', 'B100', 'Urban100', 'Manga109']\n",
    "for model in models:\n",
    "    for s in scales:\n",
    "        for d in datasets:\n",
    "            # record_dir = model_dir + model + '_x'+ s + '_test/results-' + d\n",
    "            # record_dir = model_dir + model + '_s64_SmoothL1' + '_x'+ s + '_test/results-' + d\n",
    "            record_dir = model_dir + model + '_SmoothL1' + '_x'+ s + '_test/results-' + d\n",
    "            if not os.path.exists(record_dir):\n",
    "                print(f\"training record path {record_dir} does not exist\")\n",
    "                continue\n",
    "            record_imgs = record_dir + os.sep + '*'\n",
    "            test_dir = save_dir + model + os.sep + d + os.sep + 'x' + s + os.sep\n",
    "            if not os.path.exists(test_dir):\n",
    "                os.makedirs(test_dir, exist_ok=True)\n",
    "            print(f\"copy from {record_imgs} to {test_dir}\")\n",
    "            os.popen('cp ' + record_imgs + ' ' + test_dir)"
   ]
  },
  {
   "cell_type": "code",
   "execution_count": 13,
   "id": "99597625-4c20-42be-9441-66ea03a4061e",
   "metadata": {
    "execution": {
     "iopub.execute_input": "2023-04-23T15:57:27.079590Z",
     "iopub.status.busy": "2023-04-23T15:57:27.078811Z",
     "iopub.status.idle": "2023-04-23T15:57:27.130251Z",
     "shell.execute_reply": "2023-04-23T15:57:27.128373Z",
     "shell.execute_reply.started": "2023-04-23T15:57:27.079535Z"
    },
    "tags": []
   },
   "outputs": [
    {
     "name": "stdout",
     "output_type": "stream",
     "text": [
      "copy from ../repecn_v5/v5fs_SmoothL1_x4_test_plus/results-Set5/* to ./SR/BI/v5fs_plus/Set5/x4/\n",
      "copy from ../repecn_v5/v5fs_SmoothL1_x4_test_plus/results-Set14/* to ./SR/BI/v5fs_plus/Set14/x4/\n",
      "copy from ../repecn_v5/v5fs_SmoothL1_x4_test_plus/results-B100/* to ./SR/BI/v5fs_plus/B100/x4/\n",
      "copy from ../repecn_v5/v5fs_SmoothL1_x4_test_plus/results-Urban100/* to ./SR/BI/v5fs_plus/Urban100/x4/\n",
      "copy from ../repecn_v5/v5fs_SmoothL1_x4_test_plus/results-Manga109/* to ./SR/BI/v5fs_plus/Manga109/x4/\n"
     ]
    }
   ],
   "source": [
    "import os\n",
    "\n",
    "save_dir = './SR/BI/'\n",
    "model_dir = '../repecn_v5/'\n",
    "# model_plus = ['v5fbxt', 'v5fbt', 'v5fblt']\n",
    "# scales = ['2', '3', '4']\n",
    "model_plus = ['v5fs']\n",
    "scales = ['4']\n",
    "datasets = ['Set5', 'Set14', 'B100', 'Urban100', 'Manga109']\n",
    "for model in model_plus:\n",
    "    for s in scales:\n",
    "        for d in datasets:\n",
    "            # record_dir = model_dir + model + '_x'+ s + '_test/results-' + d\n",
    "            # record_dir = model_dir + model + '_s64_SmoothL1' + '_x'+ s + '_test_plus/results-' + d\n",
    "            record_dir = model_dir + model + '_SmoothL1' + '_x'+ s + '_test_plus/results-' + d\n",
    "            if not os.path.exists(record_dir):\n",
    "                print(f\"training record path {record_dir} does not exist\")\n",
    "                continue\n",
    "            record_imgs = record_dir + os.sep + '*'\n",
    "            test_dir = save_dir + model + '_plus' + os.sep + d + os.sep + 'x' + s + os.sep\n",
    "            if not os.path.exists(test_dir):\n",
    "                os.makedirs(test_dir, exist_ok=True)\n",
    "            print(f\"copy from {record_imgs} to {test_dir}\")\n",
    "            os.popen('cp ' + record_imgs + ' ' + test_dir)"
   ]
  },
  {
   "cell_type": "code",
   "execution_count": 4,
   "id": "c3439f67-fea1-4370-9277-89a033ad2c0d",
   "metadata": {
    "execution": {
     "iopub.execute_input": "2023-09-01T09:56:49.172393Z",
     "iopub.status.busy": "2023-09-01T09:56:49.171232Z",
     "iopub.status.idle": "2023-09-01T09:56:49.453285Z",
     "shell.execute_reply": "2023-09-01T09:56:49.452196Z",
     "shell.execute_reply.started": "2023-09-01T09:56:49.172309Z"
    },
    "scrolled": true,
    "tags": []
   },
   "outputs": [
    {
     "name": "stdout",
     "output_type": "stream",
     "text": [
      "copy from ../repecn_v9_batch_befLN/v9fbxt_s64_1acb3_D1acb3_x2_test/results-Set5/* to ./SR/BI/v9fbxt/Set5/x2/\n",
      "copy from ../repecn_v9_batch_befLN/v9fbxt_s64_1acb3_D1acb3_x2_test/results-Set14/* to ./SR/BI/v9fbxt/Set14/x2/\n",
      "copy from ../repecn_v9_batch_befLN/v9fbxt_s64_1acb3_D1acb3_x2_test/results-B100/* to ./SR/BI/v9fbxt/B100/x2/\n",
      "copy from ../repecn_v9_batch_befLN/v9fbxt_s64_1acb3_D1acb3_x2_test/results-Urban100/* to ./SR/BI/v9fbxt/Urban100/x2/\n",
      "copy from ../repecn_v9_batch_befLN/v9fbxt_s64_1acb3_D1acb3_x2_test/results-Manga109/* to ./SR/BI/v9fbxt/Manga109/x2/\n",
      "copy from ../repecn_v9_batch_befLN/v9fbxt_s64_1acb3_D1acb3_x3_test/results-Set5/* to ./SR/BI/v9fbxt/Set5/x3/\n",
      "copy from ../repecn_v9_batch_befLN/v9fbxt_s64_1acb3_D1acb3_x3_test/results-Set14/* to ./SR/BI/v9fbxt/Set14/x3/\n",
      "copy from ../repecn_v9_batch_befLN/v9fbxt_s64_1acb3_D1acb3_x3_test/results-B100/* to ./SR/BI/v9fbxt/B100/x3/\n",
      "copy from ../repecn_v9_batch_befLN/v9fbxt_s64_1acb3_D1acb3_x3_test/results-Urban100/* to ./SR/BI/v9fbxt/Urban100/x3/\n",
      "copy from ../repecn_v9_batch_befLN/v9fbxt_s64_1acb3_D1acb3_x3_test/results-Manga109/* to ./SR/BI/v9fbxt/Manga109/x3/\n",
      "copy from ../repecn_v9_batch_befLN/v9fbxt_s64_1acb3_D1acb3_x4_test/results-Set5/* to ./SR/BI/v9fbxt/Set5/x4/\n",
      "copy from ../repecn_v9_batch_befLN/v9fbxt_s64_1acb3_D1acb3_x4_test/results-Set14/* to ./SR/BI/v9fbxt/Set14/x4/\n",
      "copy from ../repecn_v9_batch_befLN/v9fbxt_s64_1acb3_D1acb3_x4_test/results-B100/* to ./SR/BI/v9fbxt/B100/x4/\n",
      "copy from ../repecn_v9_batch_befLN/v9fbxt_s64_1acb3_D1acb3_x4_test/results-Urban100/* to ./SR/BI/v9fbxt/Urban100/x4/\n",
      "copy from ../repecn_v9_batch_befLN/v9fbxt_s64_1acb3_D1acb3_x4_test/results-Manga109/* to ./SR/BI/v9fbxt/Manga109/x4/\n",
      "copy from ../repecn_v9_batch_befLN/v9fblt_s64_1acb3_D1acb3_x2_test/results-Set5/* to ./SR/BI/v9fblt/Set5/x2/\n",
      "copy from ../repecn_v9_batch_befLN/v9fblt_s64_1acb3_D1acb3_x2_test/results-Set14/* to ./SR/BI/v9fblt/Set14/x2/\n",
      "copy from ../repecn_v9_batch_befLN/v9fblt_s64_1acb3_D1acb3_x2_test/results-B100/* to ./SR/BI/v9fblt/B100/x2/\n",
      "copy from ../repecn_v9_batch_befLN/v9fblt_s64_1acb3_D1acb3_x2_test/results-Urban100/* to ./SR/BI/v9fblt/Urban100/x2/\n",
      "copy from ../repecn_v9_batch_befLN/v9fblt_s64_1acb3_D1acb3_x2_test/results-Manga109/* to ./SR/BI/v9fblt/Manga109/x2/\n",
      "copy from ../repecn_v9_batch_befLN/v9fblt_s64_1acb3_D1acb3_x3_test/results-Set5/* to ./SR/BI/v9fblt/Set5/x3/\n",
      "copy from ../repecn_v9_batch_befLN/v9fblt_s64_1acb3_D1acb3_x3_test/results-Set14/* to ./SR/BI/v9fblt/Set14/x3/\n",
      "copy from ../repecn_v9_batch_befLN/v9fblt_s64_1acb3_D1acb3_x3_test/results-B100/* to ./SR/BI/v9fblt/B100/x3/\n",
      "copy from ../repecn_v9_batch_befLN/v9fblt_s64_1acb3_D1acb3_x3_test/results-Urban100/* to ./SR/BI/v9fblt/Urban100/x3/\n",
      "copy from ../repecn_v9_batch_befLN/v9fblt_s64_1acb3_D1acb3_x3_test/results-Manga109/* to ./SR/BI/v9fblt/Manga109/x3/\n",
      "copy from ../repecn_v9_batch_befLN/v9fblt_s64_1acb3_D1acb3_x4_test/results-Set5/* to ./SR/BI/v9fblt/Set5/x4/\n",
      "copy from ../repecn_v9_batch_befLN/v9fblt_s64_1acb3_D1acb3_x4_test/results-Set14/* to ./SR/BI/v9fblt/Set14/x4/\n",
      "copy from ../repecn_v9_batch_befLN/v9fblt_s64_1acb3_D1acb3_x4_test/results-B100/* to ./SR/BI/v9fblt/B100/x4/\n",
      "copy from ../repecn_v9_batch_befLN/v9fblt_s64_1acb3_D1acb3_x4_test/results-Urban100/* to ./SR/BI/v9fblt/Urban100/x4/\n",
      "copy from ../repecn_v9_batch_befLN/v9fblt_s64_1acb3_D1acb3_x4_test/results-Manga109/* to ./SR/BI/v9fblt/Manga109/x4/\n"
     ]
    }
   ],
   "source": [
    "import os\n",
    "\n",
    "save_dir = './SR/BI/'\n",
    "model_dir = '../repecn_v9_batch_befLN/'\n",
    "# models = ['v5fbxt', 'v5fbt', 'v5fblt']\n",
    "scales = ['2', '3', '4']\n",
    "models = ['v9fbxt', 'v9fblt']\n",
    "datasets = ['Set5', 'Set14', 'B100', 'Urban100', 'Manga109']\n",
    "for model in models:\n",
    "    for s in scales:\n",
    "        for d in datasets:\n",
    "            # record_dir = model_dir + model + '_x'+ s + '_test/results-' + d\n",
    "            # record_dir = model_dir + model + '_s64_SmoothL1' + '_x'+ s + '_test/results-' + d\n",
    "            record_dir = model_dir + model + '_s64_1acb3_D1acb3' + '_x'+ s + '_test/results-' + d\n",
    "            if not os.path.exists(record_dir):\n",
    "                print(f\"training record path {record_dir} does not exist\")\n",
    "                continue\n",
    "            record_imgs = record_dir + os.sep + '*'\n",
    "            test_dir = save_dir + model + os.sep + d + os.sep + 'x' + s + os.sep\n",
    "            if not os.path.exists(test_dir):\n",
    "                os.makedirs(test_dir, exist_ok=True)\n",
    "            print(f\"copy from {record_imgs} to {test_dir}\")\n",
    "            os.popen('cp ' + record_imgs + ' ' + test_dir)"
   ]
  },
  {
   "cell_type": "code",
   "execution_count": 5,
   "id": "11a2286d-18a7-4951-a8e6-6ca0837cf189",
   "metadata": {
    "execution": {
     "iopub.execute_input": "2023-09-01T09:57:49.830746Z",
     "iopub.status.busy": "2023-09-01T09:57:49.830008Z",
     "iopub.status.idle": "2023-09-01T09:57:49.995316Z",
     "shell.execute_reply": "2023-09-01T09:57:49.993726Z",
     "shell.execute_reply.started": "2023-09-01T09:57:49.830686Z"
    },
    "scrolled": true,
    "tags": []
   },
   "outputs": [
    {
     "name": "stdout",
     "output_type": "stream",
     "text": [
      "copy from ../repecn_v9_batch_befLN_8e-4/v9fs_1acb3_D1acb3_x2_test/results-Set5/* to ./SR/BI/v9fs/Set5/x2/\n",
      "copy from ../repecn_v9_batch_befLN_8e-4/v9fs_1acb3_D1acb3_x2_test/results-Set14/* to ./SR/BI/v9fs/Set14/x2/\n",
      "copy from ../repecn_v9_batch_befLN_8e-4/v9fs_1acb3_D1acb3_x2_test/results-B100/* to ./SR/BI/v9fs/B100/x2/\n",
      "copy from ../repecn_v9_batch_befLN_8e-4/v9fs_1acb3_D1acb3_x2_test/results-Urban100/* to ./SR/BI/v9fs/Urban100/x2/\n",
      "copy from ../repecn_v9_batch_befLN_8e-4/v9fs_1acb3_D1acb3_x2_test/results-Manga109/* to ./SR/BI/v9fs/Manga109/x2/\n",
      "copy from ../repecn_v9_batch_befLN_8e-4/v9fs_1acb3_D1acb3_x3_test/results-Set5/* to ./SR/BI/v9fs/Set5/x3/\n",
      "copy from ../repecn_v9_batch_befLN_8e-4/v9fs_1acb3_D1acb3_x3_test/results-Set14/* to ./SR/BI/v9fs/Set14/x3/\n",
      "copy from ../repecn_v9_batch_befLN_8e-4/v9fs_1acb3_D1acb3_x3_test/results-B100/* to ./SR/BI/v9fs/B100/x3/\n",
      "copy from ../repecn_v9_batch_befLN_8e-4/v9fs_1acb3_D1acb3_x3_test/results-Urban100/* to ./SR/BI/v9fs/Urban100/x3/\n",
      "copy from ../repecn_v9_batch_befLN_8e-4/v9fs_1acb3_D1acb3_x3_test/results-Manga109/* to ./SR/BI/v9fs/Manga109/x3/\n",
      "copy from ../repecn_v9_batch_befLN_8e-4/v9fs_1acb3_D1acb3_x4_test/results-Set5/* to ./SR/BI/v9fs/Set5/x4/\n",
      "copy from ../repecn_v9_batch_befLN_8e-4/v9fs_1acb3_D1acb3_x4_test/results-Set14/* to ./SR/BI/v9fs/Set14/x4/\n",
      "copy from ../repecn_v9_batch_befLN_8e-4/v9fs_1acb3_D1acb3_x4_test/results-B100/* to ./SR/BI/v9fs/B100/x4/\n",
      "copy from ../repecn_v9_batch_befLN_8e-4/v9fs_1acb3_D1acb3_x4_test/results-Urban100/* to ./SR/BI/v9fs/Urban100/x4/\n",
      "copy from ../repecn_v9_batch_befLN_8e-4/v9fs_1acb3_D1acb3_x4_test/results-Manga109/* to ./SR/BI/v9fs/Manga109/x4/\n"
     ]
    }
   ],
   "source": [
    "import os\n",
    "\n",
    "save_dir = './SR/BI/'\n",
    "model_dir = '../repecn_v9_batch_befLN_8e-4/'\n",
    "# models = ['v5fbxt', 'v5fbt', 'v5fblt']\n",
    "scales = ['2', '3', '4']\n",
    "models = ['v9fs']\n",
    "datasets = ['Set5', 'Set14', 'B100', 'Urban100', 'Manga109']\n",
    "for model in models:\n",
    "    for s in scales:\n",
    "        for d in datasets:\n",
    "            # record_dir = model_dir + model + '_x'+ s + '_test/results-' + d\n",
    "            # record_dir = model_dir + model + '_s64_SmoothL1' + '_x'+ s + '_test/results-' + d\n",
    "            record_dir = model_dir + model + '_1acb3_D1acb3' + '_x'+ s + '_test/results-' + d\n",
    "            if not os.path.exists(record_dir):\n",
    "                print(f\"training record path {record_dir} does not exist\")\n",
    "                continue\n",
    "            record_imgs = record_dir + os.sep + '*'\n",
    "            test_dir = save_dir + model + os.sep + d + os.sep + 'x' + s + os.sep\n",
    "            if not os.path.exists(test_dir):\n",
    "                os.makedirs(test_dir, exist_ok=True)\n",
    "            print(f\"copy from {record_imgs} to {test_dir}\")\n",
    "            os.popen('cp ' + record_imgs + ' ' + test_dir)"
   ]
  },
  {
   "cell_type": "code",
   "execution_count": 2,
   "id": "ae6b3dbb-fdba-4737-a55d-5a169b6ae4ac",
   "metadata": {
    "execution": {
     "iopub.execute_input": "2023-05-17T08:24:59.602978Z",
     "iopub.status.busy": "2023-05-17T08:24:59.602180Z",
     "iopub.status.idle": "2023-05-17T08:24:59.921193Z",
     "shell.execute_reply": "2023-05-17T08:24:59.920164Z",
     "shell.execute_reply.started": "2023-05-17T08:24:59.602921Z"
    },
    "scrolled": true,
    "tags": []
   },
   "outputs": [
    {
     "name": "stdout",
     "output_type": "stream",
     "text": [
      "copy from ../raan_UpNN_ACBbatch_noStgRes_AddNr_MS_4e-4/v1xt_p48_x2_test/results-Set5/* to ./SR/BI/alan_v1xt/Set5/x2/\n",
      "copy from ../raan_UpNN_ACBbatch_noStgRes_AddNr_MS_4e-4/v1xt_p48_x2_test/results-Set14/* to ./SR/BI/alan_v1xt/Set14/x2/\n",
      "copy from ../raan_UpNN_ACBbatch_noStgRes_AddNr_MS_4e-4/v1xt_p48_x2_test/results-B100/* to ./SR/BI/alan_v1xt/B100/x2/\n",
      "copy from ../raan_UpNN_ACBbatch_noStgRes_AddNr_MS_4e-4/v1xt_p48_x2_test/results-Urban100/* to ./SR/BI/alan_v1xt/Urban100/x2/\n",
      "copy from ../raan_UpNN_ACBbatch_noStgRes_AddNr_MS_4e-4/v1xt_p48_x2_test/results-Manga109/* to ./SR/BI/alan_v1xt/Manga109/x2/\n",
      "copy from ../raan_UpNN_ACBbatch_noStgRes_AddNr_MS_4e-4/v1xt_p48_x3_test/results-Set5/* to ./SR/BI/alan_v1xt/Set5/x3/\n",
      "copy from ../raan_UpNN_ACBbatch_noStgRes_AddNr_MS_4e-4/v1xt_p48_x3_test/results-Set14/* to ./SR/BI/alan_v1xt/Set14/x3/\n",
      "copy from ../raan_UpNN_ACBbatch_noStgRes_AddNr_MS_4e-4/v1xt_p48_x3_test/results-B100/* to ./SR/BI/alan_v1xt/B100/x3/\n",
      "copy from ../raan_UpNN_ACBbatch_noStgRes_AddNr_MS_4e-4/v1xt_p48_x3_test/results-Urban100/* to ./SR/BI/alan_v1xt/Urban100/x3/\n",
      "copy from ../raan_UpNN_ACBbatch_noStgRes_AddNr_MS_4e-4/v1xt_p48_x3_test/results-Manga109/* to ./SR/BI/alan_v1xt/Manga109/x3/\n",
      "training record path ../raan_UpNN_ACBbatch_noStgRes_AddNr_MS_4e-4/v1xt_p48_x4_test/results-Set5 does not exist\n",
      "training record path ../raan_UpNN_ACBbatch_noStgRes_AddNr_MS_4e-4/v1xt_p48_x4_test/results-Set14 does not exist\n",
      "training record path ../raan_UpNN_ACBbatch_noStgRes_AddNr_MS_4e-4/v1xt_p48_x4_test/results-B100 does not exist\n",
      "training record path ../raan_UpNN_ACBbatch_noStgRes_AddNr_MS_4e-4/v1xt_p48_x4_test/results-Urban100 does not exist\n",
      "training record path ../raan_UpNN_ACBbatch_noStgRes_AddNr_MS_4e-4/v1xt_p48_x4_test/results-Manga109 does not exist\n",
      "copy from ../raan_UpNN_ACBbatch_noStgRes_AddNr_MS_4e-4/v1t_p48_x2_test/results-Set5/* to ./SR/BI/alan_v1t/Set5/x2/\n",
      "copy from ../raan_UpNN_ACBbatch_noStgRes_AddNr_MS_4e-4/v1t_p48_x2_test/results-Set14/* to ./SR/BI/alan_v1t/Set14/x2/\n",
      "copy from ../raan_UpNN_ACBbatch_noStgRes_AddNr_MS_4e-4/v1t_p48_x2_test/results-B100/* to ./SR/BI/alan_v1t/B100/x2/\n",
      "copy from ../raan_UpNN_ACBbatch_noStgRes_AddNr_MS_4e-4/v1t_p48_x2_test/results-Urban100/* to ./SR/BI/alan_v1t/Urban100/x2/\n",
      "copy from ../raan_UpNN_ACBbatch_noStgRes_AddNr_MS_4e-4/v1t_p48_x2_test/results-Manga109/* to ./SR/BI/alan_v1t/Manga109/x2/\n",
      "copy from ../raan_UpNN_ACBbatch_noStgRes_AddNr_MS_4e-4/v1t_p48_x3_test/results-Set5/* to ./SR/BI/alan_v1t/Set5/x3/\n",
      "copy from ../raan_UpNN_ACBbatch_noStgRes_AddNr_MS_4e-4/v1t_p48_x3_test/results-Set14/* to ./SR/BI/alan_v1t/Set14/x3/\n",
      "copy from ../raan_UpNN_ACBbatch_noStgRes_AddNr_MS_4e-4/v1t_p48_x3_test/results-B100/* to ./SR/BI/alan_v1t/B100/x3/\n",
      "copy from ../raan_UpNN_ACBbatch_noStgRes_AddNr_MS_4e-4/v1t_p48_x3_test/results-Urban100/* to ./SR/BI/alan_v1t/Urban100/x3/\n",
      "copy from ../raan_UpNN_ACBbatch_noStgRes_AddNr_MS_4e-4/v1t_p48_x3_test/results-Manga109/* to ./SR/BI/alan_v1t/Manga109/x3/\n",
      "copy from ../raan_UpNN_ACBbatch_noStgRes_AddNr_MS_4e-4/v1t_p48_x4_test/results-Set5/* to ./SR/BI/alan_v1t/Set5/x4/\n",
      "copy from ../raan_UpNN_ACBbatch_noStgRes_AddNr_MS_4e-4/v1t_p48_x4_test/results-Set14/* to ./SR/BI/alan_v1t/Set14/x4/\n",
      "copy from ../raan_UpNN_ACBbatch_noStgRes_AddNr_MS_4e-4/v1t_p48_x4_test/results-B100/* to ./SR/BI/alan_v1t/B100/x4/\n",
      "copy from ../raan_UpNN_ACBbatch_noStgRes_AddNr_MS_4e-4/v1t_p48_x4_test/results-Urban100/* to ./SR/BI/alan_v1t/Urban100/x4/\n",
      "copy from ../raan_UpNN_ACBbatch_noStgRes_AddNr_MS_4e-4/v1t_p48_x4_test/results-Manga109/* to ./SR/BI/alan_v1t/Manga109/x4/\n",
      "copy from ../raan_UpNN_ACBbatch_noStgRes_AddNr_MS_8e-4/v1xs_p48_x2_test/results-Set5/* to ./SR/BI/alan_v1xs/Set5/x2/\n",
      "copy from ../raan_UpNN_ACBbatch_noStgRes_AddNr_MS_8e-4/v1xs_p48_x2_test/results-Set14/* to ./SR/BI/alan_v1xs/Set14/x2/\n",
      "copy from ../raan_UpNN_ACBbatch_noStgRes_AddNr_MS_8e-4/v1xs_p48_x2_test/results-B100/* to ./SR/BI/alan_v1xs/B100/x2/\n",
      "copy from ../raan_UpNN_ACBbatch_noStgRes_AddNr_MS_8e-4/v1xs_p48_x2_test/results-Urban100/* to ./SR/BI/alan_v1xs/Urban100/x2/\n",
      "copy from ../raan_UpNN_ACBbatch_noStgRes_AddNr_MS_8e-4/v1xs_p48_x2_test/results-Manga109/* to ./SR/BI/alan_v1xs/Manga109/x2/\n",
      "copy from ../raan_UpNN_ACBbatch_noStgRes_AddNr_MS_8e-4/v1xs_p48_x3_test/results-Set5/* to ./SR/BI/alan_v1xs/Set5/x3/\n",
      "copy from ../raan_UpNN_ACBbatch_noStgRes_AddNr_MS_8e-4/v1xs_p48_x3_test/results-Set14/* to ./SR/BI/alan_v1xs/Set14/x3/\n",
      "copy from ../raan_UpNN_ACBbatch_noStgRes_AddNr_MS_8e-4/v1xs_p48_x3_test/results-B100/* to ./SR/BI/alan_v1xs/B100/x3/\n",
      "copy from ../raan_UpNN_ACBbatch_noStgRes_AddNr_MS_8e-4/v1xs_p48_x3_test/results-Urban100/* to ./SR/BI/alan_v1xs/Urban100/x3/\n",
      "copy from ../raan_UpNN_ACBbatch_noStgRes_AddNr_MS_8e-4/v1xs_p48_x3_test/results-Manga109/* to ./SR/BI/alan_v1xs/Manga109/x3/\n",
      "copy from ../raan_UpNN_ACBbatch_noStgRes_AddNr_MS_8e-4/v1xs_p48_x4_test/results-Set5/* to ./SR/BI/alan_v1xs/Set5/x4/\n",
      "copy from ../raan_UpNN_ACBbatch_noStgRes_AddNr_MS_8e-4/v1xs_p48_x4_test/results-Set14/* to ./SR/BI/alan_v1xs/Set14/x4/\n",
      "copy from ../raan_UpNN_ACBbatch_noStgRes_AddNr_MS_8e-4/v1xs_p48_x4_test/results-B100/* to ./SR/BI/alan_v1xs/B100/x4/\n",
      "copy from ../raan_UpNN_ACBbatch_noStgRes_AddNr_MS_8e-4/v1xs_p48_x4_test/results-Urban100/* to ./SR/BI/alan_v1xs/Urban100/x4/\n",
      "copy from ../raan_UpNN_ACBbatch_noStgRes_AddNr_MS_8e-4/v1xs_p48_x4_test/results-Manga109/* to ./SR/BI/alan_v1xs/Manga109/x4/\n",
      "copy from ../raan_UpNN_ACBbatch_noStgRes_AddNr_MS_8e-4/v1s_p48_x2_test/results-Set5/* to ./SR/BI/alan_v1s/Set5/x2/\n",
      "copy from ../raan_UpNN_ACBbatch_noStgRes_AddNr_MS_8e-4/v1s_p48_x2_test/results-Set14/* to ./SR/BI/alan_v1s/Set14/x2/\n",
      "copy from ../raan_UpNN_ACBbatch_noStgRes_AddNr_MS_8e-4/v1s_p48_x2_test/results-B100/* to ./SR/BI/alan_v1s/B100/x2/\n",
      "copy from ../raan_UpNN_ACBbatch_noStgRes_AddNr_MS_8e-4/v1s_p48_x2_test/results-Urban100/* to ./SR/BI/alan_v1s/Urban100/x2/\n",
      "copy from ../raan_UpNN_ACBbatch_noStgRes_AddNr_MS_8e-4/v1s_p48_x2_test/results-Manga109/* to ./SR/BI/alan_v1s/Manga109/x2/\n",
      "copy from ../raan_UpNN_ACBbatch_noStgRes_AddNr_MS_8e-4/v1s_p48_x3_test/results-Set5/* to ./SR/BI/alan_v1s/Set5/x3/\n",
      "copy from ../raan_UpNN_ACBbatch_noStgRes_AddNr_MS_8e-4/v1s_p48_x3_test/results-Set14/* to ./SR/BI/alan_v1s/Set14/x3/\n",
      "copy from ../raan_UpNN_ACBbatch_noStgRes_AddNr_MS_8e-4/v1s_p48_x3_test/results-B100/* to ./SR/BI/alan_v1s/B100/x3/\n",
      "copy from ../raan_UpNN_ACBbatch_noStgRes_AddNr_MS_8e-4/v1s_p48_x3_test/results-Urban100/* to ./SR/BI/alan_v1s/Urban100/x3/\n",
      "copy from ../raan_UpNN_ACBbatch_noStgRes_AddNr_MS_8e-4/v1s_p48_x3_test/results-Manga109/* to ./SR/BI/alan_v1s/Manga109/x3/\n",
      "copy from ../raan_UpNN_ACBbatch_noStgRes_AddNr_MS_8e-4/v1s_p48_x4_test/results-Set5/* to ./SR/BI/alan_v1s/Set5/x4/\n",
      "copy from ../raan_UpNN_ACBbatch_noStgRes_AddNr_MS_8e-4/v1s_p48_x4_test/results-Set14/* to ./SR/BI/alan_v1s/Set14/x4/\n",
      "copy from ../raan_UpNN_ACBbatch_noStgRes_AddNr_MS_8e-4/v1s_p48_x4_test/results-B100/* to ./SR/BI/alan_v1s/B100/x4/\n",
      "copy from ../raan_UpNN_ACBbatch_noStgRes_AddNr_MS_8e-4/v1s_p48_x4_test/results-Urban100/* to ./SR/BI/alan_v1s/Urban100/x4/\n",
      "copy from ../raan_UpNN_ACBbatch_noStgRes_AddNr_MS_8e-4/v1s_p48_x4_test/results-Manga109/* to ./SR/BI/alan_v1s/Manga109/x4/\n"
     ]
    }
   ],
   "source": [
    "import os\n",
    "\n",
    "save_dir = './SR/BI/'\n",
    "model_dir = '../raan_UpNN_ACBbatch_noStgRes_AddNr_MS_4e-4/'\n",
    "# model_plus = ['v5fbxt', 'v5fbt', 'v5fblt']\n",
    "# scales = ['2', '3', '4']\n",
    "model_plus = ['v1xt', 'v1t']\n",
    "scales = ['2', '3', '4']\n",
    "datasets = ['Set5', 'Set14', 'B100', 'Urban100', 'Manga109']\n",
    "for model in model_plus:\n",
    "    for s in scales:\n",
    "        for d in datasets:\n",
    "            # record_dir = model_dir + model + '_x'+ s + '_test/results-' + d\n",
    "            # record_dir = model_dir + model + '_s64_SmoothL1' + '_x'+ s + '_test_plus/results-' + d\n",
    "            record_dir = model_dir + model + '_p48' + '_x'+ s + '_test/results-' + d\n",
    "            if not os.path.exists(record_dir):\n",
    "                print(f\"training record path {record_dir} does not exist\")\n",
    "                continue\n",
    "            record_imgs = record_dir + os.sep + '*'\n",
    "            test_dir = save_dir + 'alan_' + model + os.sep + d + os.sep + 'x' + s + os.sep\n",
    "            if not os.path.exists(test_dir):\n",
    "                os.makedirs(test_dir, exist_ok=True)\n",
    "            print(f\"copy from {record_imgs} to {test_dir}\")\n",
    "            os.popen('cp ' + record_imgs + ' ' + test_dir)\n",
    "\n",
    "model_dir = '../raan_UpNN_ACBbatch_noStgRes_AddNr_MS_8e-4/'\n",
    "# model_plus = ['v5fbxt', 'v5fbt', 'v5fblt']\n",
    "# scales = ['2', '3', '4']\n",
    "model_plus = ['v1xs', 'v1s']\n",
    "scales = ['2', '3', '4']\n",
    "datasets = ['Set5', 'Set14', 'B100', 'Urban100', 'Manga109']\n",
    "for model in model_plus:\n",
    "    for s in scales:\n",
    "        for d in datasets:\n",
    "            # record_dir = model_dir + model + '_x'+ s + '_test/results-' + d\n",
    "            # record_dir = model_dir + model + '_s64_SmoothL1' + '_x'+ s + '_test_plus/results-' + d\n",
    "            record_dir = model_dir + model + '_p48' + '_x'+ s + '_test/results-' + d\n",
    "            if not os.path.exists(record_dir):\n",
    "                print(f\"training record path {record_dir} does not exist\")\n",
    "                continue\n",
    "            record_imgs = record_dir + os.sep + '*'\n",
    "            test_dir = save_dir + 'alan_' + model + os.sep + d + os.sep + 'x' + s + os.sep\n",
    "            if not os.path.exists(test_dir):\n",
    "                os.makedirs(test_dir, exist_ok=True)\n",
    "            print(f\"copy from {record_imgs} to {test_dir}\")\n",
    "            os.popen('cp ' + record_imgs + ' ' + test_dir)"
   ]
  },
  {
   "cell_type": "code",
   "execution_count": 13,
   "id": "7a38d01e-b3b8-402a-92d0-f727dce94f79",
   "metadata": {
    "execution": {
     "iopub.execute_input": "2023-09-14T15:09:10.500962Z",
     "iopub.status.busy": "2023-09-14T15:09:10.500592Z",
     "iopub.status.idle": "2023-09-14T15:09:11.348268Z",
     "shell.execute_reply": "2023-09-14T15:09:11.346540Z",
     "shell.execute_reply.started": "2023-09-14T15:09:10.500933Z"
    },
    "scrolled": true,
    "tags": []
   },
   "outputs": [
    {
     "name": "stdout",
     "output_type": "stream",
     "text": [
      "copy from ../ALANV2_UpNN_ACBno_StgRes_AddNr_MS_5e-4/v1xt_p48_x2_test/results-Set5/* to ./SR/BI/alanv2_xt/Set5/x2/\n",
      "copy from ../ALANV2_UpNN_ACBno_StgRes_AddNr_MS_5e-4/v1xt_p48_x2_test/results-Set14/* to ./SR/BI/alanv2_xt/Set14/x2/\n",
      "copy from ../ALANV2_UpNN_ACBno_StgRes_AddNr_MS_5e-4/v1xt_p48_x2_test/results-B100/* to ./SR/BI/alanv2_xt/B100/x2/\n",
      "copy from ../ALANV2_UpNN_ACBno_StgRes_AddNr_MS_5e-4/v1xt_p48_x2_test/results-Urban100/* to ./SR/BI/alanv2_xt/Urban100/x2/\n",
      "copy from ../ALANV2_UpNN_ACBno_StgRes_AddNr_MS_5e-4/v1xt_p48_x2_test/results-Manga109/* to ./SR/BI/alanv2_xt/Manga109/x2/\n",
      "copy from ../ALANV2_UpNN_ACBno_StgRes_AddNr_MS_5e-4/v1xt_p48_x3_test/results-Set5/* to ./SR/BI/alanv2_xt/Set5/x3/\n",
      "copy from ../ALANV2_UpNN_ACBno_StgRes_AddNr_MS_5e-4/v1xt_p48_x3_test/results-Set14/* to ./SR/BI/alanv2_xt/Set14/x3/\n",
      "copy from ../ALANV2_UpNN_ACBno_StgRes_AddNr_MS_5e-4/v1xt_p48_x3_test/results-B100/* to ./SR/BI/alanv2_xt/B100/x3/\n",
      "copy from ../ALANV2_UpNN_ACBno_StgRes_AddNr_MS_5e-4/v1xt_p48_x3_test/results-Urban100/* to ./SR/BI/alanv2_xt/Urban100/x3/\n",
      "copy from ../ALANV2_UpNN_ACBno_StgRes_AddNr_MS_5e-4/v1xt_p48_x3_test/results-Manga109/* to ./SR/BI/alanv2_xt/Manga109/x3/\n",
      "copy from ../ALANV2_UpNN_ACBno_StgRes_AddNr_MS_5e-4/v1xt_p48_x4_test/results-Set5/* to ./SR/BI/alanv2_xt/Set5/x4/\n",
      "copy from ../ALANV2_UpNN_ACBno_StgRes_AddNr_MS_5e-4/v1xt_p48_x4_test/results-Set14/* to ./SR/BI/alanv2_xt/Set14/x4/\n",
      "copy from ../ALANV2_UpNN_ACBno_StgRes_AddNr_MS_5e-4/v1xt_p48_x4_test/results-B100/* to ./SR/BI/alanv2_xt/B100/x4/\n",
      "copy from ../ALANV2_UpNN_ACBno_StgRes_AddNr_MS_5e-4/v1xt_p48_x4_test/results-Urban100/* to ./SR/BI/alanv2_xt/Urban100/x4/\n",
      "copy from ../ALANV2_UpNN_ACBno_StgRes_AddNr_MS_5e-4/v1xt_p48_x4_test/results-Manga109/* to ./SR/BI/alanv2_xt/Manga109/x4/\n",
      "copy from ../ALANV2_UpNN_ACBno_StgRes_AddNr_MS_5e-4/v1t_p48_x2_test/results-Set5/* to ./SR/BI/alanv2_t/Set5/x2/\n",
      "copy from ../ALANV2_UpNN_ACBno_StgRes_AddNr_MS_5e-4/v1t_p48_x2_test/results-Set14/* to ./SR/BI/alanv2_t/Set14/x2/\n",
      "copy from ../ALANV2_UpNN_ACBno_StgRes_AddNr_MS_5e-4/v1t_p48_x2_test/results-B100/* to ./SR/BI/alanv2_t/B100/x2/\n",
      "copy from ../ALANV2_UpNN_ACBno_StgRes_AddNr_MS_5e-4/v1t_p48_x2_test/results-Urban100/* to ./SR/BI/alanv2_t/Urban100/x2/\n",
      "copy from ../ALANV2_UpNN_ACBno_StgRes_AddNr_MS_5e-4/v1t_p48_x2_test/results-Manga109/* to ./SR/BI/alanv2_t/Manga109/x2/\n",
      "copy from ../ALANV2_UpNN_ACBno_StgRes_AddNr_MS_5e-4/v1t_p48_x3_test/results-Set5/* to ./SR/BI/alanv2_t/Set5/x3/\n",
      "copy from ../ALANV2_UpNN_ACBno_StgRes_AddNr_MS_5e-4/v1t_p48_x3_test/results-Set14/* to ./SR/BI/alanv2_t/Set14/x3/\n",
      "copy from ../ALANV2_UpNN_ACBno_StgRes_AddNr_MS_5e-4/v1t_p48_x3_test/results-B100/* to ./SR/BI/alanv2_t/B100/x3/\n",
      "copy from ../ALANV2_UpNN_ACBno_StgRes_AddNr_MS_5e-4/v1t_p48_x3_test/results-Urban100/* to ./SR/BI/alanv2_t/Urban100/x3/\n",
      "copy from ../ALANV2_UpNN_ACBno_StgRes_AddNr_MS_5e-4/v1t_p48_x3_test/results-Manga109/* to ./SR/BI/alanv2_t/Manga109/x3/\n",
      "copy from ../ALANV2_UpNN_ACBno_StgRes_AddNr_MS_5e-4/v1t_p48_x4_test/results-Set5/* to ./SR/BI/alanv2_t/Set5/x4/\n",
      "copy from ../ALANV2_UpNN_ACBno_StgRes_AddNr_MS_5e-4/v1t_p48_x4_test/results-Set14/* to ./SR/BI/alanv2_t/Set14/x4/\n",
      "copy from ../ALANV2_UpNN_ACBno_StgRes_AddNr_MS_5e-4/v1t_p48_x4_test/results-B100/* to ./SR/BI/alanv2_t/B100/x4/\n",
      "copy from ../ALANV2_UpNN_ACBno_StgRes_AddNr_MS_5e-4/v1t_p48_x4_test/results-Urban100/* to ./SR/BI/alanv2_t/Urban100/x4/\n",
      "copy from ../ALANV2_UpNN_ACBno_StgRes_AddNr_MS_5e-4/v1t_p48_x4_test/results-Manga109/* to ./SR/BI/alanv2_t/Manga109/x4/\n",
      "copy from ../ALANV2_UpNN_ACBno_StgRes_AddNr_MS_5e-4/v1xs_p48_x2_test/results-Set5/* to ./SR/BI/alanv2_xs/Set5/x2/\n",
      "copy from ../ALANV2_UpNN_ACBno_StgRes_AddNr_MS_5e-4/v1xs_p48_x2_test/results-Set14/* to ./SR/BI/alanv2_xs/Set14/x2/\n",
      "copy from ../ALANV2_UpNN_ACBno_StgRes_AddNr_MS_5e-4/v1xs_p48_x2_test/results-B100/* to ./SR/BI/alanv2_xs/B100/x2/\n",
      "copy from ../ALANV2_UpNN_ACBno_StgRes_AddNr_MS_5e-4/v1xs_p48_x2_test/results-Urban100/* to ./SR/BI/alanv2_xs/Urban100/x2/\n",
      "copy from ../ALANV2_UpNN_ACBno_StgRes_AddNr_MS_5e-4/v1xs_p48_x2_test/results-Manga109/* to ./SR/BI/alanv2_xs/Manga109/x2/\n",
      "copy from ../ALANV2_UpNN_ACBno_StgRes_AddNr_MS_5e-4/v1xs_p48_x3_test/results-Set5/* to ./SR/BI/alanv2_xs/Set5/x3/\n",
      "copy from ../ALANV2_UpNN_ACBno_StgRes_AddNr_MS_5e-4/v1xs_p48_x3_test/results-Set14/* to ./SR/BI/alanv2_xs/Set14/x3/\n",
      "copy from ../ALANV2_UpNN_ACBno_StgRes_AddNr_MS_5e-4/v1xs_p48_x3_test/results-B100/* to ./SR/BI/alanv2_xs/B100/x3/\n",
      "copy from ../ALANV2_UpNN_ACBno_StgRes_AddNr_MS_5e-4/v1xs_p48_x3_test/results-Urban100/* to ./SR/BI/alanv2_xs/Urban100/x3/\n",
      "copy from ../ALANV2_UpNN_ACBno_StgRes_AddNr_MS_5e-4/v1xs_p48_x3_test/results-Manga109/* to ./SR/BI/alanv2_xs/Manga109/x3/\n",
      "copy from ../ALANV2_UpNN_ACBno_StgRes_AddNr_MS_5e-4/v1xs_p48_x4_test/results-Set5/* to ./SR/BI/alanv2_xs/Set5/x4/\n",
      "copy from ../ALANV2_UpNN_ACBno_StgRes_AddNr_MS_5e-4/v1xs_p48_x4_test/results-Set14/* to ./SR/BI/alanv2_xs/Set14/x4/\n",
      "copy from ../ALANV2_UpNN_ACBno_StgRes_AddNr_MS_5e-4/v1xs_p48_x4_test/results-B100/* to ./SR/BI/alanv2_xs/B100/x4/\n",
      "copy from ../ALANV2_UpNN_ACBno_StgRes_AddNr_MS_5e-4/v1xs_p48_x4_test/results-Urban100/* to ./SR/BI/alanv2_xs/Urban100/x4/\n",
      "copy from ../ALANV2_UpNN_ACBno_StgRes_AddNr_MS_5e-4/v1xs_p48_x4_test/results-Manga109/* to ./SR/BI/alanv2_xs/Manga109/x4/\n"
     ]
    }
   ],
   "source": [
    "import os\n",
    "\n",
    "save_dir = './SR/BI/'\n",
    "model_dir = '../ALANV2_UpNN_ACBno_StgRes_AddNr_MS_5e-4/v1'\n",
    "# model_plus = ['v5fbxt', 'v5fbt', 'v5fblt']\n",
    "# scales = ['2', '3', '4']\n",
    "model_plus = ['xt', 't', 'xs']\n",
    "scales = ['2', '3', '4']\n",
    "datasets = ['Set5', 'Set14', 'B100', 'Urban100', 'Manga109']\n",
    "for model in model_plus:\n",
    "    for s in scales:\n",
    "        for d in datasets:\n",
    "            # record_dir = model_dir + model + '_x'+ s + '_test/results-' + d\n",
    "            # record_dir = model_dir + model + '_s64_SmoothL1' + '_x'+ s + '_test_plus/results-' + d\n",
    "            record_dir = model_dir + model + '_p48' + '_x'+ s + '_test/results-' + d\n",
    "            if not os.path.exists(record_dir):\n",
    "                print(f\"training record path {record_dir} does not exist\")\n",
    "                continue\n",
    "            record_imgs = record_dir + os.sep + '*'\n",
    "            test_dir = save_dir + 'alanv2_' + model + os.sep + d + os.sep + 'x' + s + os.sep\n",
    "            if not os.path.exists(test_dir):\n",
    "                os.makedirs(test_dir, exist_ok=True)\n",
    "            print(f\"copy from {record_imgs} to {test_dir}\")\n",
    "            os.popen('cp ' + record_imgs + ' ' + test_dir)\n",
    "\n"
   ]
  },
  {
   "cell_type": "code",
   "execution_count": 18,
   "id": "995604de-2253-49bf-a8ea-829b0b473d82",
   "metadata": {
    "execution": {
     "iopub.execute_input": "2023-09-26T08:28:19.877858Z",
     "iopub.status.busy": "2023-09-26T08:28:19.877373Z",
     "iopub.status.idle": "2023-09-26T08:28:20.129964Z",
     "shell.execute_reply": "2023-09-26T08:28:20.128933Z",
     "shell.execute_reply.started": "2023-09-26T08:28:19.877824Z"
    },
    "tags": []
   },
   "outputs": [
    {
     "name": "stdout",
     "output_type": "stream",
     "text": [
      "copy from ../DCAN/v2_UpNN_noACB_ACBno_StgRes_AddNr_MS_5e-4/dcanv2_xt2_dep4_p48_bbLN_L1_x2_test/results-Set5/* to ./SR/BI/dcanv2_LNL1_xt2_dep4/Set5/x2/\n",
      "copy from ../DCAN/v2_UpNN_noACB_ACBno_StgRes_AddNr_MS_5e-4/dcanv2_xt2_dep4_p48_bbLN_L1_x2_test/results-Set14/* to ./SR/BI/dcanv2_LNL1_xt2_dep4/Set14/x2/\n",
      "copy from ../DCAN/v2_UpNN_noACB_ACBno_StgRes_AddNr_MS_5e-4/dcanv2_xt2_dep4_p48_bbLN_L1_x2_test/results-B100/* to ./SR/BI/dcanv2_LNL1_xt2_dep4/B100/x2/\n",
      "copy from ../DCAN/v2_UpNN_noACB_ACBno_StgRes_AddNr_MS_5e-4/dcanv2_xt2_dep4_p48_bbLN_L1_x2_test/results-Urban100/* to ./SR/BI/dcanv2_LNL1_xt2_dep4/Urban100/x2/\n",
      "copy from ../DCAN/v2_UpNN_noACB_ACBno_StgRes_AddNr_MS_5e-4/dcanv2_xt2_dep4_p48_bbLN_L1_x2_test/results-Manga109/* to ./SR/BI/dcanv2_LNL1_xt2_dep4/Manga109/x2/\n",
      "copy from ../DCAN/v2_UpNN_noACB_ACBno_StgRes_AddNr_MS_5e-4/dcanv2_xt2_dep4_p48_bbLN_L1_x3_test/results-Set5/* to ./SR/BI/dcanv2_LNL1_xt2_dep4/Set5/x3/\n",
      "copy from ../DCAN/v2_UpNN_noACB_ACBno_StgRes_AddNr_MS_5e-4/dcanv2_xt2_dep4_p48_bbLN_L1_x3_test/results-Set14/* to ./SR/BI/dcanv2_LNL1_xt2_dep4/Set14/x3/\n",
      "copy from ../DCAN/v2_UpNN_noACB_ACBno_StgRes_AddNr_MS_5e-4/dcanv2_xt2_dep4_p48_bbLN_L1_x3_test/results-B100/* to ./SR/BI/dcanv2_LNL1_xt2_dep4/B100/x3/\n",
      "copy from ../DCAN/v2_UpNN_noACB_ACBno_StgRes_AddNr_MS_5e-4/dcanv2_xt2_dep4_p48_bbLN_L1_x3_test/results-Urban100/* to ./SR/BI/dcanv2_LNL1_xt2_dep4/Urban100/x3/\n",
      "copy from ../DCAN/v2_UpNN_noACB_ACBno_StgRes_AddNr_MS_5e-4/dcanv2_xt2_dep4_p48_bbLN_L1_x3_test/results-Manga109/* to ./SR/BI/dcanv2_LNL1_xt2_dep4/Manga109/x3/\n",
      "copy from ../DCAN/v2_UpNN_noACB_ACBno_StgRes_AddNr_MS_5e-4/dcanv2_xt2_dep4_p48_bbLN_L1_x4_test/results-Set5/* to ./SR/BI/dcanv2_LNL1_xt2_dep4/Set5/x4/\n",
      "copy from ../DCAN/v2_UpNN_noACB_ACBno_StgRes_AddNr_MS_5e-4/dcanv2_xt2_dep4_p48_bbLN_L1_x4_test/results-Set14/* to ./SR/BI/dcanv2_LNL1_xt2_dep4/Set14/x4/\n",
      "copy from ../DCAN/v2_UpNN_noACB_ACBno_StgRes_AddNr_MS_5e-4/dcanv2_xt2_dep4_p48_bbLN_L1_x4_test/results-B100/* to ./SR/BI/dcanv2_LNL1_xt2_dep4/B100/x4/\n",
      "copy from ../DCAN/v2_UpNN_noACB_ACBno_StgRes_AddNr_MS_5e-4/dcanv2_xt2_dep4_p48_bbLN_L1_x4_test/results-Urban100/* to ./SR/BI/dcanv2_LNL1_xt2_dep4/Urban100/x4/\n",
      "copy from ../DCAN/v2_UpNN_noACB_ACBno_StgRes_AddNr_MS_5e-4/dcanv2_xt2_dep4_p48_bbLN_L1_x4_test/results-Manga109/* to ./SR/BI/dcanv2_LNL1_xt2_dep4/Manga109/x4/\n",
      "copy from ../DCAN/v2_UpNN_noACB_ACBno_StgRes_AddNr_MS_5e-4/dcanv2_t2_p48_bbLN_L1_x2_test/results-Set5/* to ./SR/BI/dcanv2_LNL1_t2/Set5/x2/\n",
      "copy from ../DCAN/v2_UpNN_noACB_ACBno_StgRes_AddNr_MS_5e-4/dcanv2_t2_p48_bbLN_L1_x2_test/results-Set14/* to ./SR/BI/dcanv2_LNL1_t2/Set14/x2/\n",
      "copy from ../DCAN/v2_UpNN_noACB_ACBno_StgRes_AddNr_MS_5e-4/dcanv2_t2_p48_bbLN_L1_x2_test/results-B100/* to ./SR/BI/dcanv2_LNL1_t2/B100/x2/\n",
      "copy from ../DCAN/v2_UpNN_noACB_ACBno_StgRes_AddNr_MS_5e-4/dcanv2_t2_p48_bbLN_L1_x2_test/results-Urban100/* to ./SR/BI/dcanv2_LNL1_t2/Urban100/x2/\n",
      "copy from ../DCAN/v2_UpNN_noACB_ACBno_StgRes_AddNr_MS_5e-4/dcanv2_t2_p48_bbLN_L1_x2_test/results-Manga109/* to ./SR/BI/dcanv2_LNL1_t2/Manga109/x2/\n",
      "copy from ../DCAN/v2_UpNN_noACB_ACBno_StgRes_AddNr_MS_5e-4/dcanv2_t2_p48_bbLN_L1_x3_test/results-Set5/* to ./SR/BI/dcanv2_LNL1_t2/Set5/x3/\n",
      "copy from ../DCAN/v2_UpNN_noACB_ACBno_StgRes_AddNr_MS_5e-4/dcanv2_t2_p48_bbLN_L1_x3_test/results-Set14/* to ./SR/BI/dcanv2_LNL1_t2/Set14/x3/\n",
      "copy from ../DCAN/v2_UpNN_noACB_ACBno_StgRes_AddNr_MS_5e-4/dcanv2_t2_p48_bbLN_L1_x3_test/results-B100/* to ./SR/BI/dcanv2_LNL1_t2/B100/x3/\n",
      "copy from ../DCAN/v2_UpNN_noACB_ACBno_StgRes_AddNr_MS_5e-4/dcanv2_t2_p48_bbLN_L1_x3_test/results-Urban100/* to ./SR/BI/dcanv2_LNL1_t2/Urban100/x3/\n",
      "copy from ../DCAN/v2_UpNN_noACB_ACBno_StgRes_AddNr_MS_5e-4/dcanv2_t2_p48_bbLN_L1_x3_test/results-Manga109/* to ./SR/BI/dcanv2_LNL1_t2/Manga109/x3/\n",
      "copy from ../DCAN/v2_UpNN_noACB_ACBno_StgRes_AddNr_MS_5e-4/dcanv2_t2_p48_bbLN_L1_x4_test/results-Set5/* to ./SR/BI/dcanv2_LNL1_t2/Set5/x4/\n",
      "copy from ../DCAN/v2_UpNN_noACB_ACBno_StgRes_AddNr_MS_5e-4/dcanv2_t2_p48_bbLN_L1_x4_test/results-Set14/* to ./SR/BI/dcanv2_LNL1_t2/Set14/x4/\n",
      "copy from ../DCAN/v2_UpNN_noACB_ACBno_StgRes_AddNr_MS_5e-4/dcanv2_t2_p48_bbLN_L1_x4_test/results-B100/* to ./SR/BI/dcanv2_LNL1_t2/B100/x4/\n",
      "copy from ../DCAN/v2_UpNN_noACB_ACBno_StgRes_AddNr_MS_5e-4/dcanv2_t2_p48_bbLN_L1_x4_test/results-Urban100/* to ./SR/BI/dcanv2_LNL1_t2/Urban100/x4/\n",
      "copy from ../DCAN/v2_UpNN_noACB_ACBno_StgRes_AddNr_MS_5e-4/dcanv2_t2_p48_bbLN_L1_x4_test/results-Manga109/* to ./SR/BI/dcanv2_LNL1_t2/Manga109/x4/\n"
     ]
    }
   ],
   "source": [
    "import os\n",
    "\n",
    "save_dir = './SR/BI/'\n",
    "model_dir = '../DCAN/v2_UpNN_noACB_ACBno_StgRes_AddNr_MS_5e-4/'\n",
    "# model_plus = ['v5fbxt', 'v5fbt', 'v5fblt']\n",
    "# scales = ['2', '3', '4']\n",
    "model_plus = ['xt2_dep4', 't2']\n",
    "scales = ['2', '3', '4']\n",
    "datasets = ['Set5', 'Set14', 'B100', 'Urban100', 'Manga109']\n",
    "for model in model_plus:\n",
    "    for s in scales:\n",
    "        for d in datasets:\n",
    "            # record_dir = model_dir + model + '_x'+ s + '_test/results-' + d\n",
    "            # record_dir = model_dir + model + '_s64_SmoothL1' + '_x'+ s + '_test_plus/results-' + d\n",
    "            # record_dir = model_dir + 'dcanv2_' + model + '_p481' + '_x'+ s + '_test/results-' + d\n",
    "            record_dir = model_dir + 'dcanv2_' + model + '_p48_bbLN_L1' + '_x'+ s + '_test/results-' + d\n",
    "            if not os.path.exists(record_dir):\n",
    "                print(f\"training record path {record_dir} does not exist\")\n",
    "                continue\n",
    "            record_imgs = record_dir + os.sep + '*'\n",
    "            test_dir = save_dir + 'dcanv2_LNL1_' + model + os.sep + d + os.sep + 'x' + s + os.sep\n",
    "            if not os.path.exists(test_dir):\n",
    "                os.makedirs(test_dir, exist_ok=True)\n",
    "            print(f\"copy from {record_imgs} to {test_dir}\")\n",
    "            os.popen('cp ' + record_imgs + ' ' + test_dir)\n"
   ]
  },
  {
   "cell_type": "markdown",
   "id": "d50d3aeb-390e-4aa3-8f24-549117be4996",
   "metadata": {},
   "source": [
    "# 移动test模型到runtime测试中"
   ]
  },
  {
   "cell_type": "code",
   "execution_count": 14,
   "id": "6e69547d-78b0-4059-9b64-c495ec6ecd96",
   "metadata": {
    "execution": {
     "iopub.execute_input": "2023-04-23T15:57:33.929630Z",
     "iopub.status.busy": "2023-04-23T15:57:33.928847Z",
     "iopub.status.idle": "2023-04-23T15:57:33.953217Z",
     "shell.execute_reply": "2023-04-23T15:57:33.951462Z",
     "shell.execute_reply.started": "2023-04-23T15:57:33.929574Z"
    },
    "tags": []
   },
   "outputs": [
    {
     "name": "stdout",
     "output_type": "stream",
     "text": [
      "copy from ../repecn_v5/v5fs_SmoothL1_x4_test/model/inf_model.pt to ../runtime_models/v5fs_x4.pt\n"
     ]
    }
   ],
   "source": [
    "import os\n",
    "\n",
    "save_dir = '../runtime_models/'\n",
    "model_dir = '../repecn_v5/'\n",
    "models = ['v5fs']\n",
    "scales = ['4']\n",
    "for model in models:\n",
    "    for s in scales:\n",
    "        # record_dir = model_dir + model + '_x'+ s + '_test/results-' + d\n",
    "        record_dir = model_dir + model + '_SmoothL1' + '_x'+ s + '_test/model'\n",
    "        if not os.path.exists(record_dir):\n",
    "            print(f\"training record path {record_dir} does not exist\")\n",
    "            continue\n",
    "        record_file = record_dir + os.sep + 'inf_model.pt'\n",
    "        dist_dir = save_dir + model + '_x'+ s + '.pt'\n",
    "        if not os.path.exists(test_dir):\n",
    "            os.makedirs(test_dir, exist_ok=True)\n",
    "        print(f\"copy from {record_file} to {dist_dir}\")\n",
    "        os.popen('cp ' + record_file + ' ' + dist_dir)"
   ]
  },
  {
   "cell_type": "code",
   "execution_count": 4,
   "id": "c080f169-7bcb-4981-b497-33fa4deef402",
   "metadata": {
    "execution": {
     "iopub.execute_input": "2023-04-21T08:15:38.800181Z",
     "iopub.status.busy": "2023-04-21T08:15:38.799245Z",
     "iopub.status.idle": "2023-04-21T08:15:38.874879Z",
     "shell.execute_reply": "2023-04-21T08:15:38.872872Z",
     "shell.execute_reply.started": "2023-04-21T08:15:38.800119Z"
    },
    "tags": []
   },
   "outputs": [
    {
     "name": "stdout",
     "output_type": "stream",
     "text": [
      "copy from ../repecn_v5/v5fbxt_s64_SmoothL1_x2_test/model/inf_model.pt to ../runtime_models/v5fbxt_x2.pt\n",
      "copy from ../repecn_v5/v5fbxt_s64_SmoothL1_x3_test/model/inf_model.pt to ../runtime_models/v5fbxt_x3.pt\n",
      "copy from ../repecn_v5/v5fbxt_s64_SmoothL1_x4_test/model/inf_model.pt to ../runtime_models/v5fbxt_x4.pt\n",
      "copy from ../repecn_v5/v5fbt_s64_SmoothL1_x2_test/model/inf_model.pt to ../runtime_models/v5fbt_x2.pt\n",
      "copy from ../repecn_v5/v5fbt_s64_SmoothL1_x3_test/model/inf_model.pt to ../runtime_models/v5fbt_x3.pt\n",
      "copy from ../repecn_v5/v5fbt_s64_SmoothL1_x4_test/model/inf_model.pt to ../runtime_models/v5fbt_x4.pt\n",
      "copy from ../repecn_v5/v5fblt_s64_SmoothL1_x2_test/model/inf_model.pt to ../runtime_models/v5fblt_x2.pt\n",
      "copy from ../repecn_v5/v5fblt_s64_SmoothL1_x3_test/model/inf_model.pt to ../runtime_models/v5fblt_x3.pt\n",
      "copy from ../repecn_v5/v5fblt_s64_SmoothL1_x4_test/model/inf_model.pt to ../runtime_models/v5fblt_x4.pt\n"
     ]
    }
   ],
   "source": [
    "import os\n",
    "\n",
    "save_dir = '../runtime_models/'\n",
    "model_dir = '../repecn_v5/'\n",
    "models = ['v5fbxt', 'v5fbt', 'v5fblt']\n",
    "scales = ['2', '3', '4']\n",
    "for model in models:\n",
    "    for s in scales:\n",
    "        # record_dir = model_dir + model + '_x'+ s + '_test/results-' + d\n",
    "        record_dir = model_dir + model + '_s64_SmoothL1' + '_x'+ s + '_test/model'\n",
    "        if not os.path.exists(record_dir):\n",
    "            print(f\"training record path {record_dir} does not exist\")\n",
    "            continue\n",
    "        record_file = record_dir + os.sep + 'inf_model.pt'\n",
    "        dist_dir = save_dir + model + '_x'+ s + '.pt'\n",
    "        if not os.path.exists(test_dir):\n",
    "            os.makedirs(test_dir, exist_ok=True)\n",
    "        print(f\"copy from {record_file} to {dist_dir}\")\n",
    "        os.popen('cp ' + record_file + ' ' + dist_dir)"
   ]
  },
  {
   "cell_type": "code",
   "execution_count": 6,
   "id": "403c1fdb-c24f-4378-9944-405f383deec5",
   "metadata": {
    "execution": {
     "iopub.execute_input": "2023-09-01T10:00:13.965743Z",
     "iopub.status.busy": "2023-09-01T10:00:13.965080Z",
     "iopub.status.idle": "2023-09-01T10:00:14.019427Z",
     "shell.execute_reply": "2023-09-01T10:00:14.017564Z",
     "shell.execute_reply.started": "2023-09-01T10:00:13.965687Z"
    },
    "tags": []
   },
   "outputs": [
    {
     "name": "stdout",
     "output_type": "stream",
     "text": [
      "copy from ../repecn_v9_batch_befLN/v9fbxt_s64_1acb3_D1acb3_x2_test/model/inf_model.pt to ../runtime_models/v9fbxt_x2.pt\n",
      "copy from ../repecn_v9_batch_befLN/v9fbxt_s64_1acb3_D1acb3_x3_test/model/inf_model.pt to ../runtime_models/v9fbxt_x3.pt\n",
      "copy from ../repecn_v9_batch_befLN/v9fbxt_s64_1acb3_D1acb3_x4_test/model/inf_model.pt to ../runtime_models/v9fbxt_x4.pt\n",
      "copy from ../repecn_v9_batch_befLN/v9fblt_s64_1acb3_D1acb3_x2_test/model/inf_model.pt to ../runtime_models/v9fblt_x2.pt\n",
      "copy from ../repecn_v9_batch_befLN/v9fblt_s64_1acb3_D1acb3_x3_test/model/inf_model.pt to ../runtime_models/v9fblt_x3.pt\n",
      "copy from ../repecn_v9_batch_befLN/v9fblt_s64_1acb3_D1acb3_x4_test/model/inf_model.pt to ../runtime_models/v9fblt_x4.pt\n"
     ]
    }
   ],
   "source": [
    "import os\n",
    "\n",
    "save_dir = '../runtime_models/'\n",
    "model_dir = '../repecn_v9_batch_befLN/'\n",
    "models = ['v9fbxt', 'v9fblt']\n",
    "scales = ['2', '3', '4']\n",
    "for model in models:\n",
    "    for s in scales:\n",
    "        # record_dir = model_dir + model + '_x'+ s + '_test/results-' + d\n",
    "        record_dir = model_dir + model + '_s64_1acb3_D1acb3' + '_x'+ s + '_test/model'\n",
    "        if not os.path.exists(record_dir):\n",
    "            print(f\"training record path {record_dir} does not exist\")\n",
    "            continue\n",
    "        record_file = record_dir + os.sep + 'inf_model.pt'\n",
    "        dist_dir = save_dir + model + '_x'+ s + '.pt'\n",
    "        if not os.path.exists(test_dir):\n",
    "            os.makedirs(test_dir, exist_ok=True)\n",
    "        print(f\"copy from {record_file} to {dist_dir}\")\n",
    "        os.popen('cp ' + record_file + ' ' + dist_dir)"
   ]
  },
  {
   "cell_type": "code",
   "execution_count": 7,
   "id": "e90012ab-b8b6-46be-8543-b639cd592b82",
   "metadata": {
    "execution": {
     "iopub.execute_input": "2023-09-01T10:00:56.190878Z",
     "iopub.status.busy": "2023-09-01T10:00:56.190236Z",
     "iopub.status.idle": "2023-09-01T10:00:56.226483Z",
     "shell.execute_reply": "2023-09-01T10:00:56.224736Z",
     "shell.execute_reply.started": "2023-09-01T10:00:56.190821Z"
    },
    "tags": []
   },
   "outputs": [
    {
     "name": "stdout",
     "output_type": "stream",
     "text": [
      "copy from ../repecn_v9_batch_befLN_8e-4/v9fs_1acb3_D1acb3_x2_test/model/inf_model.pt to ../runtime_models/v9fs_x2.pt\n",
      "copy from ../repecn_v9_batch_befLN_8e-4/v9fs_1acb3_D1acb3_x3_test/model/inf_model.pt to ../runtime_models/v9fs_x3.pt\n",
      "copy from ../repecn_v9_batch_befLN_8e-4/v9fs_1acb3_D1acb3_x4_test/model/inf_model.pt to ../runtime_models/v9fs_x4.pt\n"
     ]
    }
   ],
   "source": [
    "import os\n",
    "\n",
    "save_dir = '../runtime_models/'\n",
    "model_dir = '../repecn_v9_batch_befLN_8e-4/'\n",
    "models = ['v9fs']\n",
    "scales = ['2', '3', '4']\n",
    "for model in models:\n",
    "    for s in scales:\n",
    "        # record_dir = model_dir + model + '_x'+ s + '_test/results-' + d\n",
    "        record_dir = model_dir + model + '_1acb3_D1acb3' + '_x'+ s + '_test/model'\n",
    "        if not os.path.exists(record_dir):\n",
    "            print(f\"training record path {record_dir} does not exist\")\n",
    "            continue\n",
    "        record_file = record_dir + os.sep + 'inf_model.pt'\n",
    "        dist_dir = save_dir + model + '_x'+ s + '.pt'\n",
    "        if not os.path.exists(test_dir):\n",
    "            os.makedirs(test_dir, exist_ok=True)\n",
    "        print(f\"copy from {record_file} to {dist_dir}\")\n",
    "        os.popen('cp ' + record_file + ' ' + dist_dir)"
   ]
  },
  {
   "cell_type": "code",
   "execution_count": 16,
   "id": "5eb62b25-ec8b-4a8f-8e01-2b26e3aa964a",
   "metadata": {
    "execution": {
     "iopub.execute_input": "2023-09-14T15:10:32.934387Z",
     "iopub.status.busy": "2023-09-14T15:10:32.933904Z",
     "iopub.status.idle": "2023-09-14T15:10:33.036982Z",
     "shell.execute_reply": "2023-09-14T15:10:33.036182Z",
     "shell.execute_reply.started": "2023-09-14T15:10:32.934356Z"
    },
    "tags": []
   },
   "outputs": [
    {
     "name": "stdout",
     "output_type": "stream",
     "text": [
      "copy from ../raan_UpNN_ACBbatch_noStgRes_AddNr_MS_4e-4/v1xt_p48_x2_test/model/inf_model.pt to ../runtime_models/alan_v1xt_x2.pt\n",
      "copy from ../raan_UpNN_ACBbatch_noStgRes_AddNr_MS_4e-4/v1xt_p48_x3_test/model/inf_model.pt to ../runtime_models/alan_v1xt_x3.pt\n",
      "training record path ../raan_UpNN_ACBbatch_noStgRes_AddNr_MS_4e-4/v1xt_p48_x4_test/model does not exist\n",
      "copy from ../raan_UpNN_ACBbatch_noStgRes_AddNr_MS_4e-4/v1t_p48_x2_test/model/inf_model.pt to ../runtime_models/alan_v1t_x2.pt\n",
      "copy from ../raan_UpNN_ACBbatch_noStgRes_AddNr_MS_4e-4/v1t_p48_x3_test/model/inf_model.pt to ../runtime_models/alan_v1t_x3.pt\n",
      "copy from ../raan_UpNN_ACBbatch_noStgRes_AddNr_MS_4e-4/v1t_p48_x4_test/model/inf_model.pt to ../runtime_models/alan_v1t_x4.pt\n",
      "copy from ../raan_UpNN_ACBbatch_noStgRes_AddNr_MS_8e-4/v1xs_p48_x2_test/model/inf_model.pt to ../runtime_models/alan_v1xs_x2.pt\n",
      "copy from ../raan_UpNN_ACBbatch_noStgRes_AddNr_MS_8e-4/v1xs_p48_x3_test/model/inf_model.pt to ../runtime_models/alan_v1xs_x3.pt\n",
      "copy from ../raan_UpNN_ACBbatch_noStgRes_AddNr_MS_8e-4/v1xs_p48_x4_test/model/inf_model.pt to ../runtime_models/alan_v1xs_x4.pt\n",
      "copy from ../raan_UpNN_ACBbatch_noStgRes_AddNr_MS_8e-4/v1s_p48_x2_test/model/inf_model.pt to ../runtime_models/alan_v1s_x2.pt\n",
      "copy from ../raan_UpNN_ACBbatch_noStgRes_AddNr_MS_8e-4/v1s_p48_x3_test/model/inf_model.pt to ../runtime_models/alan_v1s_x3.pt\n",
      "copy from ../raan_UpNN_ACBbatch_noStgRes_AddNr_MS_8e-4/v1s_p48_x4_test/model/inf_model.pt to ../runtime_models/alan_v1s_x4.pt\n"
     ]
    }
   ],
   "source": [
    "import os\n",
    "\n",
    "save_dir = '../runtime_models/'\n",
    "model_dir = '../raan_UpNN_ACBbatch_noStgRes_AddNr_MS_4e-4/'\n",
    "models = ['v1xt', 'v1t']\n",
    "scales = ['2', '3', '4']\n",
    "for model in models:\n",
    "    for s in scales:\n",
    "        # record_dir = model_dir + model + '_x'+ s + '_test/results-' + d\n",
    "        record_dir = model_dir + model + '_p48' + '_x'+ s + '_test/model'\n",
    "        if not os.path.exists(record_dir):\n",
    "            print(f\"training record path {record_dir} does not exist\")\n",
    "            continue\n",
    "        record_file = record_dir + os.sep + 'inf_model.pt'\n",
    "        dist_dir = save_dir + 'alan_' + model + '_x'+ s + '.pt'\n",
    "        if not os.path.exists(test_dir):\n",
    "            os.makedirs(test_dir, exist_ok=True)\n",
    "        print(f\"copy from {record_file} to {dist_dir}\")\n",
    "        os.popen('cp ' + record_file + ' ' + dist_dir)\n",
    "\n",
    "model_dir = '../raan_UpNN_ACBbatch_noStgRes_AddNr_MS_8e-4/'\n",
    "models = ['v1xs', 'v1s']\n",
    "scales = ['2', '3', '4']\n",
    "for model in models:\n",
    "    for s in scales:\n",
    "        # record_dir = model_dir + model + '_x'+ s + '_test/results-' + d\n",
    "        record_dir = model_dir + model + '_p48' + '_x'+ s + '_test/model'\n",
    "        if not os.path.exists(record_dir):\n",
    "            print(f\"training record path {record_dir} does not exist\")\n",
    "            continue\n",
    "        record_file = record_dir + os.sep + 'inf_model.pt'\n",
    "        dist_dir = save_dir + 'alan_' + model + '_x'+ s + '.pt'\n",
    "        if not os.path.exists(test_dir):\n",
    "            os.makedirs(test_dir, exist_ok=True)\n",
    "        print(f\"copy from {record_file} to {dist_dir}\")\n",
    "        os.popen('cp ' + record_file + ' ' + dist_dir)"
   ]
  },
  {
   "cell_type": "code",
   "execution_count": 15,
   "id": "ce531c9d-05b5-4e20-a997-fc3fd786a973",
   "metadata": {
    "execution": {
     "iopub.execute_input": "2023-09-14T15:10:27.094796Z",
     "iopub.status.busy": "2023-09-14T15:10:27.094329Z",
     "iopub.status.idle": "2023-09-14T15:10:27.191180Z",
     "shell.execute_reply": "2023-09-14T15:10:27.190238Z",
     "shell.execute_reply.started": "2023-09-14T15:10:27.094766Z"
    },
    "tags": []
   },
   "outputs": [
    {
     "name": "stdout",
     "output_type": "stream",
     "text": [
      "copy from ../ALANV2_UpNN_ACBno_StgRes_AddNr_MS_5e-4/v1xt_p48_x2_test/model/inf_model.pt to ../runtime_models/alanv2_xt_x2.pt\n",
      "copy from ../ALANV2_UpNN_ACBno_StgRes_AddNr_MS_5e-4/v1xt_p48_x3_test/model/inf_model.pt to ../runtime_models/alanv2_xt_x3.pt\n",
      "copy from ../ALANV2_UpNN_ACBno_StgRes_AddNr_MS_5e-4/v1xt_p48_x4_test/model/inf_model.pt to ../runtime_models/alanv2_xt_x4.pt\n",
      "copy from ../ALANV2_UpNN_ACBno_StgRes_AddNr_MS_5e-4/v1t_p48_x2_test/model/inf_model.pt to ../runtime_models/alanv2_t_x2.pt\n",
      "copy from ../ALANV2_UpNN_ACBno_StgRes_AddNr_MS_5e-4/v1t_p48_x3_test/model/inf_model.pt to ../runtime_models/alanv2_t_x3.pt\n",
      "copy from ../ALANV2_UpNN_ACBno_StgRes_AddNr_MS_5e-4/v1t_p48_x4_test/model/inf_model.pt to ../runtime_models/alanv2_t_x4.pt\n",
      "copy from ../ALANV2_UpNN_ACBno_StgRes_AddNr_MS_5e-4/v1xs_p48_x2_test/model/inf_model.pt to ../runtime_models/alanv2_xs_x2.pt\n",
      "copy from ../ALANV2_UpNN_ACBno_StgRes_AddNr_MS_5e-4/v1xs_p48_x3_test/model/inf_model.pt to ../runtime_models/alanv2_xs_x3.pt\n",
      "copy from ../ALANV2_UpNN_ACBno_StgRes_AddNr_MS_5e-4/v1xs_p48_x4_test/model/inf_model.pt to ../runtime_models/alanv2_xs_x4.pt\n"
     ]
    }
   ],
   "source": [
    "import os\n",
    "\n",
    "save_dir = '../runtime_models/'\n",
    "model_dir = '../ALANV2_UpNN_ACBno_StgRes_AddNr_MS_5e-4/v1'\n",
    "models = ['xt', 't', 'xs']\n",
    "scales = ['2', '3', '4']\n",
    "for model in models:\n",
    "    for s in scales:\n",
    "        # record_dir = model_dir + model + '_x'+ s + '_test/results-' + d\n",
    "        record_dir = model_dir + model + '_p48' + '_x'+ s + '_test/model'\n",
    "        if not os.path.exists(record_dir):\n",
    "            print(f\"training record path {record_dir} does not exist\")\n",
    "            continue\n",
    "        record_file = record_dir + os.sep + 'inf_model.pt'\n",
    "        dist_dir = save_dir + 'alanv2_' + model + '_x'+ s + '.pt'\n",
    "        if not os.path.exists(test_dir):\n",
    "            os.makedirs(test_dir, exist_ok=True)\n",
    "        print(f\"copy from {record_file} to {dist_dir}\")\n",
    "        os.popen('cp ' + record_file + ' ' + dist_dir)\n"
   ]
  },
  {
   "cell_type": "markdown",
   "id": "c8539299-1f91-4ff3-a23c-4bc8be2c8d72",
   "metadata": {},
   "source": [
    "# 移动SR图像到寻找优势crop文件夹中"
   ]
  },
  {
   "cell_type": "code",
   "execution_count": null,
   "id": "55113c3c-f8f3-4498-85dc-e727da3f5965",
   "metadata": {
    "execution": {
     "iopub.execute_input": "2023-04-24T13:22:11.468589Z",
     "iopub.status.busy": "2023-04-24T13:22:11.468136Z",
     "iopub.status.idle": "2023-04-24T13:22:11.682335Z",
     "shell.execute_reply": "2023-04-24T13:22:11.680084Z",
     "shell.execute_reply.started": "2023-04-24T13:22:11.468561Z"
    },
    "scrolled": true,
    "tags": []
   },
   "outputs": [
    {
     "name": "stdout",
     "output_type": "stream",
     "text": [
      "copy from ../raan_UpNN_ACBbatch_noStgRes_AddNr_MS_4e-4/v1xt_p48_x2_test/results-Set5/* to ../../Find_Crop/models/ALAN-v1xt/Set5/x2/\n",
      "copy from ../raan_UpNN_ACBbatch_noStgRes_AddNr_MS_4e-4/v1xt_p48_x2_test/results-Set14/* to ../../Find_Crop/models/ALAN-v1xt/Set14/x2/\n",
      "copy from ../raan_UpNN_ACBbatch_noStgRes_AddNr_MS_4e-4/v1xt_p48_x2_test/results-B100/* to ../../Find_Crop/models/ALAN-v1xt/B100/x2/\n",
      "copy from ../raan_UpNN_ACBbatch_noStgRes_AddNr_MS_4e-4/v1xt_p48_x2_test/results-Urban100/* to ../../Find_Crop/models/ALAN-v1xt/Urban100/x2/\n",
      "copy from ../raan_UpNN_ACBbatch_noStgRes_AddNr_MS_4e-4/v1xt_p48_x2_test/results-Manga109/* to ../../Find_Crop/models/ALAN-v1xt/Manga109/x2/\n",
      "copy from ../raan_UpNN_ACBbatch_noStgRes_AddNr_MS_4e-4/v1xt_p48_x3_test/results-Set5/* to ../../Find_Crop/models/ALAN-v1xt/Set5/x3/\n",
      "copy from ../raan_UpNN_ACBbatch_noStgRes_AddNr_MS_4e-4/v1xt_p48_x3_test/results-Set14/* to ../../Find_Crop/models/ALAN-v1xt/Set14/x3/\n",
      "copy from ../raan_UpNN_ACBbatch_noStgRes_AddNr_MS_4e-4/v1xt_p48_x3_test/results-B100/* to ../../Find_Crop/models/ALAN-v1xt/B100/x3/\n",
      "copy from ../raan_UpNN_ACBbatch_noStgRes_AddNr_MS_4e-4/v1xt_p48_x3_test/results-Urban100/* to ../../Find_Crop/models/ALAN-v1xt/Urban100/x3/\n",
      "copy from ../raan_UpNN_ACBbatch_noStgRes_AddNr_MS_4e-4/v1xt_p48_x3_test/results-Manga109/* to ../../Find_Crop/models/ALAN-v1xt/Manga109/x3/\n",
      "copy from ../raan_UpNN_ACBbatch_noStgRes_AddNr_MS_4e-4/v1xt_p48_x4_test/results-Set5/* to ../../Find_Crop/models/ALAN-v1xt/Set5/x4/\n",
      "copy from ../raan_UpNN_ACBbatch_noStgRes_AddNr_MS_4e-4/v1xt_p48_x4_test/results-Set14/* to ../../Find_Crop/models/ALAN-v1xt/Set14/x4/\n",
      "copy from ../raan_UpNN_ACBbatch_noStgRes_AddNr_MS_4e-4/v1xt_p48_x4_test/results-B100/* to ../../Find_Crop/models/ALAN-v1xt/B100/x4/\n",
      "copy from ../raan_UpNN_ACBbatch_noStgRes_AddNr_MS_4e-4/v1xt_p48_x4_test/results-Urban100/* to ../../Find_Crop/models/ALAN-v1xt/Urban100/x4/\n",
      "copy from ../raan_UpNN_ACBbatch_noStgRes_AddNr_MS_4e-4/v1xt_p48_x4_test/results-Manga109/* to ../../Find_Crop/models/ALAN-v1xt/Manga109/x4/\n",
      "copy from ../raan_UpNN_ACBbatch_noStgRes_AddNr_MS_4e-4/v1t_p48_x2_test/results-Set5/* to ../../Find_Crop/models/ALAN-v1t/Set5/x2/\n",
      "copy from ../raan_UpNN_ACBbatch_noStgRes_AddNr_MS_4e-4/v1t_p48_x2_test/results-Set14/* to ../../Find_Crop/models/ALAN-v1t/Set14/x2/\n",
      "copy from ../raan_UpNN_ACBbatch_noStgRes_AddNr_MS_4e-4/v1t_p48_x2_test/results-B100/* to ../../Find_Crop/models/ALAN-v1t/B100/x2/\n",
      "copy from ../raan_UpNN_ACBbatch_noStgRes_AddNr_MS_4e-4/v1t_p48_x2_test/results-Urban100/* to ../../Find_Crop/models/ALAN-v1t/Urban100/x2/\n",
      "copy from ../raan_UpNN_ACBbatch_noStgRes_AddNr_MS_4e-4/v1t_p48_x2_test/results-Manga109/* to ../../Find_Crop/models/ALAN-v1t/Manga109/x2/\n",
      "copy from ../raan_UpNN_ACBbatch_noStgRes_AddNr_MS_4e-4/v1t_p48_x3_test/results-Set5/* to ../../Find_Crop/models/ALAN-v1t/Set5/x3/\n",
      "copy from ../raan_UpNN_ACBbatch_noStgRes_AddNr_MS_4e-4/v1t_p48_x3_test/results-Set14/* to ../../Find_Crop/models/ALAN-v1t/Set14/x3/\n",
      "copy from ../raan_UpNN_ACBbatch_noStgRes_AddNr_MS_4e-4/v1t_p48_x3_test/results-B100/* to ../../Find_Crop/models/ALAN-v1t/B100/x3/\n",
      "copy from ../raan_UpNN_ACBbatch_noStgRes_AddNr_MS_4e-4/v1t_p48_x3_test/results-Urban100/* to ../../Find_Crop/models/ALAN-v1t/Urban100/x3/\n",
      "copy from ../raan_UpNN_ACBbatch_noStgRes_AddNr_MS_4e-4/v1t_p48_x3_test/results-Manga109/* to ../../Find_Crop/models/ALAN-v1t/Manga109/x3/\n",
      "copy from ../raan_UpNN_ACBbatch_noStgRes_AddNr_MS_4e-4/v1t_p48_x4_test/results-Set5/* to ../../Find_Crop/models/ALAN-v1t/Set5/x4/\n",
      "copy from ../raan_UpNN_ACBbatch_noStgRes_AddNr_MS_4e-4/v1t_p48_x4_test/results-Set14/* to ../../Find_Crop/models/ALAN-v1t/Set14/x4/\n",
      "copy from ../raan_UpNN_ACBbatch_noStgRes_AddNr_MS_4e-4/v1t_p48_x4_test/results-B100/* to ../../Find_Crop/models/ALAN-v1t/B100/x4/\n",
      "copy from ../raan_UpNN_ACBbatch_noStgRes_AddNr_MS_4e-4/v1t_p48_x4_test/results-Urban100/* to ../../Find_Crop/models/ALAN-v1t/Urban100/x4/\n",
      "copy from ../raan_UpNN_ACBbatch_noStgRes_AddNr_MS_4e-4/v1t_p48_x4_test/results-Manga109/* to ../../Find_Crop/models/ALAN-v1t/Manga109/x4/\n",
      "copy from ../raan_UpNN_ACBbatch_noStgRes_AddNr_MS_8e-4/v1xs_p48_x2_test/results-Set5/* to ../../Find_Crop/models/ALAN-v1xs/Set5/x2/\n",
      "copy from ../raan_UpNN_ACBbatch_noStgRes_AddNr_MS_8e-4/v1xs_p48_x2_test/results-Set14/* to ../../Find_Crop/models/ALAN-v1xs/Set14/x2/\n",
      "copy from ../raan_UpNN_ACBbatch_noStgRes_AddNr_MS_8e-4/v1xs_p48_x2_test/results-B100/* to ../../Find_Crop/models/ALAN-v1xs/B100/x2/\n",
      "copy from ../raan_UpNN_ACBbatch_noStgRes_AddNr_MS_8e-4/v1xs_p48_x2_test/results-Urban100/* to ../../Find_Crop/models/ALAN-v1xs/Urban100/x2/\n",
      "copy from ../raan_UpNN_ACBbatch_noStgRes_AddNr_MS_8e-4/v1xs_p48_x2_test/results-Manga109/* to ../../Find_Crop/models/ALAN-v1xs/Manga109/x2/\n",
      "copy from ../raan_UpNN_ACBbatch_noStgRes_AddNr_MS_8e-4/v1xs_p48_x3_test/results-Set5/* to ../../Find_Crop/models/ALAN-v1xs/Set5/x3/\n",
      "copy from ../raan_UpNN_ACBbatch_noStgRes_AddNr_MS_8e-4/v1xs_p48_x3_test/results-Set14/* to ../../Find_Crop/models/ALAN-v1xs/Set14/x3/\n",
      "copy from ../raan_UpNN_ACBbatch_noStgRes_AddNr_MS_8e-4/v1xs_p48_x3_test/results-B100/* to ../../Find_Crop/models/ALAN-v1xs/B100/x3/\n",
      "copy from ../raan_UpNN_ACBbatch_noStgRes_AddNr_MS_8e-4/v1xs_p48_x3_test/results-Urban100/* to ../../Find_Crop/models/ALAN-v1xs/Urban100/x3/\n",
      "copy from ../raan_UpNN_ACBbatch_noStgRes_AddNr_MS_8e-4/v1xs_p48_x3_test/results-Manga109/* to ../../Find_Crop/models/ALAN-v1xs/Manga109/x3/\n",
      "copy from ../raan_UpNN_ACBbatch_noStgRes_AddNr_MS_8e-4/v1xs_p48_x4_test/results-Set5/* to ../../Find_Crop/models/ALAN-v1xs/Set5/x4/\n",
      "copy from ../raan_UpNN_ACBbatch_noStgRes_AddNr_MS_8e-4/v1xs_p48_x4_test/results-Set14/* to ../../Find_Crop/models/ALAN-v1xs/Set14/x4/\n",
      "copy from ../raan_UpNN_ACBbatch_noStgRes_AddNr_MS_8e-4/v1xs_p48_x4_test/results-B100/* to ../../Find_Crop/models/ALAN-v1xs/B100/x4/\n",
      "copy from ../raan_UpNN_ACBbatch_noStgRes_AddNr_MS_8e-4/v1xs_p48_x4_test/results-Urban100/* to ../../Find_Crop/models/ALAN-v1xs/Urban100/x4/\n",
      "copy from ../raan_UpNN_ACBbatch_noStgRes_AddNr_MS_8e-4/v1xs_p48_x4_test/results-Manga109/* to ../../Find_Crop/models/ALAN-v1xs/Manga109/x4/\n",
      "copy from ../raan_UpNN_ACBbatch_noStgRes_AddNr_MS_8e-4/v1s_p48_x2_test/results-Set5/* to ../../Find_Crop/models/ALAN-v1s/Set5/x2/\n",
      "copy from ../raan_UpNN_ACBbatch_noStgRes_AddNr_MS_8e-4/v1s_p48_x2_test/results-Set14/* to ../../Find_Crop/models/ALAN-v1s/Set14/x2/\n",
      "copy from ../raan_UpNN_ACBbatch_noStgRes_AddNr_MS_8e-4/v1s_p48_x2_test/results-B100/* to ../../Find_Crop/models/ALAN-v1s/B100/x2/\n",
      "copy from ../raan_UpNN_ACBbatch_noStgRes_AddNr_MS_8e-4/v1s_p48_x2_test/results-Urban100/* to ../../Find_Crop/models/ALAN-v1s/Urban100/x2/\n",
      "copy from ../raan_UpNN_ACBbatch_noStgRes_AddNr_MS_8e-4/v1s_p48_x2_test/results-Manga109/* to ../../Find_Crop/models/ALAN-v1s/Manga109/x2/\n",
      "copy from ../raan_UpNN_ACBbatch_noStgRes_AddNr_MS_8e-4/v1s_p48_x3_test/results-Set5/* to ../../Find_Crop/models/ALAN-v1s/Set5/x3/\n",
      "copy from ../raan_UpNN_ACBbatch_noStgRes_AddNr_MS_8e-4/v1s_p48_x3_test/results-Set14/* to ../../Find_Crop/models/ALAN-v1s/Set14/x3/\n",
      "copy from ../raan_UpNN_ACBbatch_noStgRes_AddNr_MS_8e-4/v1s_p48_x3_test/results-B100/* to ../../Find_Crop/models/ALAN-v1s/B100/x3/\n",
      "copy from ../raan_UpNN_ACBbatch_noStgRes_AddNr_MS_8e-4/v1s_p48_x3_test/results-Urban100/* to ../../Find_Crop/models/ALAN-v1s/Urban100/x3/\n",
      "copy from ../raan_UpNN_ACBbatch_noStgRes_AddNr_MS_8e-4/v1s_p48_x3_test/results-Manga109/* to ../../Find_Crop/models/ALAN-v1s/Manga109/x3/\n",
      "copy from ../raan_UpNN_ACBbatch_noStgRes_AddNr_MS_8e-4/v1s_p48_x4_test/results-Set5/* to ../../Find_Crop/models/ALAN-v1s/Set5/x4/\n",
      "copy from ../raan_UpNN_ACBbatch_noStgRes_AddNr_MS_8e-4/v1s_p48_x4_test/results-Set14/* to ../../Find_Crop/models/ALAN-v1s/Set14/x4/\n",
      "copy from ../raan_UpNN_ACBbatch_noStgRes_AddNr_MS_8e-4/v1s_p48_x4_test/results-B100/* to ../../Find_Crop/models/ALAN-v1s/B100/x4/\n",
      "copy from ../raan_UpNN_ACBbatch_noStgRes_AddNr_MS_8e-4/v1s_p48_x4_test/results-Urban100/* to ../../Find_Crop/models/ALAN-v1s/Urban100/x4/\n",
      "copy from ../raan_UpNN_ACBbatch_noStgRes_AddNr_MS_8e-4/v1s_p48_x4_test/results-Manga109/* to ../../Find_Crop/models/ALAN-v1s/Manga109/x4/\n"
     ]
    }
   ],
   "source": [
    "import os\n",
    "\n",
    "save_dir = '../../Find_Crop/models/ERACN-XT/'\n",
    "model_dir = '../repecn_v5/'\n",
    "# models = ['v5fbxt', 'v5fbt', 'v5fblt']\n",
    "scales = ['2', '3', '4']\n",
    "models = ['v5fbxt']\n",
    "# scales = ['4']\n",
    "datasets = ['Set5', 'Set14', 'B100', 'Urban100', 'Manga109']\n",
    "for model in models:\n",
    "    for s in scales:\n",
    "        for d in datasets:\n",
    "            # record_dir = model_dir + model + '_x'+ s + '_test/results-' + d\n",
    "            record_dir = model_dir + model + '_s64_SmoothL1' + '_x'+ s + '_test/results-' + d\n",
    "            # record_dir = model_dir + model + '_SmoothL1' + '_x'+ s + '_test/results-' + d  # for v5fs and v5s\n",
    "            if not os.path.exists(record_dir):\n",
    "                print(f\"training record path {record_dir} does not exist\")\n",
    "                continue\n",
    "            record_imgs = record_dir + os.sep + '*'\n",
    "            test_dir = save_dir + d + os.sep + 'x' + s + os.sep\n",
    "            if not os.path.exists(test_dir):\n",
    "                os.makedirs(test_dir, exist_ok=True)\n",
    "            print(f\"copy from {record_imgs} to {test_dir}\")\n",
    "            os.popen('cp ' + record_imgs + ' ' + test_dir)"
   ]
  },
  {
   "cell_type": "code",
   "execution_count": 12,
   "id": "f39f715b-899e-41f3-bdd6-5af29e5d2cdf",
   "metadata": {
    "execution": {
     "iopub.execute_input": "2023-09-01T14:30:09.131832Z",
     "iopub.status.busy": "2023-09-01T14:30:09.131208Z",
     "iopub.status.idle": "2023-09-01T14:30:09.242624Z",
     "shell.execute_reply": "2023-09-01T14:30:09.241077Z",
     "shell.execute_reply.started": "2023-09-01T14:30:09.131777Z"
    },
    "scrolled": true,
    "tags": []
   },
   "outputs": [
    {
     "name": "stdout",
     "output_type": "stream",
     "text": [
      "copy from ../repecn_v9_batch_befLN_8e-4/v9fs_1acb3_D1acb3_x2_test/results-Set5/* to ../../Find_Crop/models/RepECN/Set5/x2/\n",
      "copy from ../repecn_v9_batch_befLN_8e-4/v9fs_1acb3_D1acb3_x2_test/results-Set14/* to ../../Find_Crop/models/RepECN/Set14/x2/\n",
      "copy from ../repecn_v9_batch_befLN_8e-4/v9fs_1acb3_D1acb3_x2_test/results-B100/* to ../../Find_Crop/models/RepECN/B100/x2/\n",
      "copy from ../repecn_v9_batch_befLN_8e-4/v9fs_1acb3_D1acb3_x2_test/results-Urban100/* to ../../Find_Crop/models/RepECN/Urban100/x2/\n",
      "copy from ../repecn_v9_batch_befLN_8e-4/v9fs_1acb3_D1acb3_x2_test/results-Manga109/* to ../../Find_Crop/models/RepECN/Manga109/x2/\n",
      "copy from ../repecn_v9_batch_befLN_8e-4/v9fs_1acb3_D1acb3_x3_test/results-Set5/* to ../../Find_Crop/models/RepECN/Set5/x3/\n",
      "copy from ../repecn_v9_batch_befLN_8e-4/v9fs_1acb3_D1acb3_x3_test/results-Set14/* to ../../Find_Crop/models/RepECN/Set14/x3/\n",
      "copy from ../repecn_v9_batch_befLN_8e-4/v9fs_1acb3_D1acb3_x3_test/results-B100/* to ../../Find_Crop/models/RepECN/B100/x3/\n",
      "copy from ../repecn_v9_batch_befLN_8e-4/v9fs_1acb3_D1acb3_x3_test/results-Urban100/* to ../../Find_Crop/models/RepECN/Urban100/x3/\n",
      "copy from ../repecn_v9_batch_befLN_8e-4/v9fs_1acb3_D1acb3_x3_test/results-Manga109/* to ../../Find_Crop/models/RepECN/Manga109/x3/\n",
      "copy from ../repecn_v9_batch_befLN_8e-4/v9fs_1acb3_D1acb3_x4_test/results-Set5/* to ../../Find_Crop/models/RepECN/Set5/x4/\n",
      "copy from ../repecn_v9_batch_befLN_8e-4/v9fs_1acb3_D1acb3_x4_test/results-Set14/* to ../../Find_Crop/models/RepECN/Set14/x4/\n",
      "copy from ../repecn_v9_batch_befLN_8e-4/v9fs_1acb3_D1acb3_x4_test/results-B100/* to ../../Find_Crop/models/RepECN/B100/x4/\n",
      "copy from ../repecn_v9_batch_befLN_8e-4/v9fs_1acb3_D1acb3_x4_test/results-Urban100/* to ../../Find_Crop/models/RepECN/Urban100/x4/\n",
      "copy from ../repecn_v9_batch_befLN_8e-4/v9fs_1acb3_D1acb3_x4_test/results-Manga109/* to ../../Find_Crop/models/RepECN/Manga109/x4/\n"
     ]
    }
   ],
   "source": [
    "import os\n",
    "\n",
    "save_dir = '../../Find_Crop/models/RepECN/'\n",
    "model_dir = '../repecn_v9_batch_befLN_8e-4/'\n",
    "# models = ['v5fbxt', 'v5fbt', 'v5fblt']\n",
    "scales = ['2', '3', '4']\n",
    "models = ['v9fs']\n",
    "# scales = ['4']\n",
    "datasets = ['Set5', 'Set14', 'B100', 'Urban100', 'Manga109']\n",
    "for model in models:\n",
    "    for s in scales:\n",
    "        for d in datasets:\n",
    "            # record_dir = model_dir + model + '_x'+ s + '_test/results-' + d\n",
    "            record_dir = model_dir + model + '_1acb3_D1acb3' + '_x'+ s + '_test/results-' + d\n",
    "            # record_dir = model_dir + model + '_SmoothL1' + '_x'+ s + '_test/results-' + d  # for v5fs and v5s\n",
    "            if not os.path.exists(record_dir):\n",
    "                print(f\"training record path {record_dir} does not exist\")\n",
    "                continue\n",
    "            record_imgs = record_dir + os.sep + '*'\n",
    "            test_dir = save_dir + d + os.sep + 'x' + s + os.sep\n",
    "            if not os.path.exists(test_dir):\n",
    "                os.makedirs(test_dir, exist_ok=True)\n",
    "            print(f\"copy from {record_imgs} to {test_dir}\")\n",
    "            os.popen('cp ' + record_imgs + ' ' + test_dir)"
   ]
  },
  {
   "cell_type": "code",
   "execution_count": null,
   "id": "9c5fb79a-42c8-4961-95bb-86057f2d1bda",
   "metadata": {},
   "outputs": [],
   "source": [
    "import os\n",
    "\n",
    "save_dir = '../../Find_Crop/models/'\n",
    "model_dir = '../raan_UpNN_ACBbatch_noStgRes_AddNr_MS_4e-4/'\n",
    "# models = ['v5fbxt', 'v5fbt', 'v5fblt']\n",
    "scales = ['2', '3', '4']\n",
    "models = ['v1xt', 'v1t']\n",
    "# scales = ['4']\n",
    "datasets = ['Set5', 'Set14', 'B100', 'Urban100', 'Manga109']\n",
    "for model in models:\n",
    "    for s in scales:\n",
    "        for d in datasets:\n",
    "            # record_dir = model_dir + model + '_x'+ s + '_test/results-' + d\n",
    "            record_dir = model_dir + model + '_p48' + '_x'+ s + '_test/results-' + d\n",
    "            # record_dir = model_dir + model + '_SmoothL1' + '_x'+ s + '_test/results-' + d  # for v5fs and v5s\n",
    "            if not os.path.exists(record_dir):\n",
    "                print(f\"training record path {record_dir} does not exist\")\n",
    "                continue\n",
    "            record_imgs = record_dir + os.sep + '*'\n",
    "            test_dir = save_dir + 'ALAN-' + model + os.sep + d + os.sep + 'x' + s + os.sep\n",
    "            if not os.path.exists(test_dir):\n",
    "                os.makedirs(test_dir, exist_ok=True)\n",
    "            print(f\"copy from {record_imgs} to {test_dir}\")\n",
    "            os.popen('cp ' + record_imgs + ' ' + test_dir)\n",
    "            \n",
    "model_dir = '../raan_UpNN_ACBbatch_noStgRes_AddNr_MS_8e-4/'\n",
    "# models = ['v5fbxt', 'v5fbt', 'v5fblt']\n",
    "scales = ['2', '3', '4']\n",
    "models = ['v1xs', 'v1s']\n",
    "# scales = ['4']\n",
    "datasets = ['Set5', 'Set14', 'B100', 'Urban100', 'Manga109']\n",
    "for model in models:\n",
    "    for s in scales:\n",
    "        for d in datasets:\n",
    "            # record_dir = model_dir + model + '_x'+ s + '_test/results-' + d\n",
    "            record_dir = model_dir + model + '_p48' + '_x'+ s + '_test/results-' + d\n",
    "            # record_dir = model_dir + model + '_SmoothL1' + '_x'+ s + '_test/results-' + d  # for v5fs and v5s\n",
    "            if not os.path.exists(record_dir):\n",
    "                print(f\"training record path {record_dir} does not exist\")\n",
    "                continue\n",
    "            record_imgs = record_dir + os.sep + '*'\n",
    "            test_dir = save_dir + 'ALAN-' + model + os.sep + d + os.sep + 'x' + s + os.sep\n",
    "            if not os.path.exists(test_dir):\n",
    "                os.makedirs(test_dir, exist_ok=True)\n",
    "            print(f\"copy from {record_imgs} to {test_dir}\")\n",
    "            os.popen('cp ' + record_imgs + ' ' + test_dir)"
   ]
  },
  {
   "cell_type": "code",
   "execution_count": 17,
   "id": "6cab1f44-1333-44d2-912e-fd5a5ef08dc9",
   "metadata": {
    "execution": {
     "iopub.execute_input": "2023-09-14T15:11:45.693009Z",
     "iopub.status.busy": "2023-09-14T15:11:45.692536Z",
     "iopub.status.idle": "2023-09-14T15:11:46.363695Z",
     "shell.execute_reply": "2023-09-14T15:11:46.362705Z",
     "shell.execute_reply.started": "2023-09-14T15:11:45.692978Z"
    },
    "tags": []
   },
   "outputs": [
    {
     "name": "stdout",
     "output_type": "stream",
     "text": [
      "copy from ../ALANV2_UpNN_ACBno_StgRes_AddNr_MS_5e-4/v1xt_p48_x2_test/results-Set5/* to ../../Find_Crop/models/ALANV2-xt/Set5/x2/\n",
      "copy from ../ALANV2_UpNN_ACBno_StgRes_AddNr_MS_5e-4/v1xt_p48_x2_test/results-Set14/* to ../../Find_Crop/models/ALANV2-xt/Set14/x2/\n",
      "copy from ../ALANV2_UpNN_ACBno_StgRes_AddNr_MS_5e-4/v1xt_p48_x2_test/results-B100/* to ../../Find_Crop/models/ALANV2-xt/B100/x2/\n",
      "copy from ../ALANV2_UpNN_ACBno_StgRes_AddNr_MS_5e-4/v1xt_p48_x2_test/results-Urban100/* to ../../Find_Crop/models/ALANV2-xt/Urban100/x2/\n",
      "copy from ../ALANV2_UpNN_ACBno_StgRes_AddNr_MS_5e-4/v1xt_p48_x2_test/results-Manga109/* to ../../Find_Crop/models/ALANV2-xt/Manga109/x2/\n",
      "copy from ../ALANV2_UpNN_ACBno_StgRes_AddNr_MS_5e-4/v1xt_p48_x3_test/results-Set5/* to ../../Find_Crop/models/ALANV2-xt/Set5/x3/\n",
      "copy from ../ALANV2_UpNN_ACBno_StgRes_AddNr_MS_5e-4/v1xt_p48_x3_test/results-Set14/* to ../../Find_Crop/models/ALANV2-xt/Set14/x3/\n",
      "copy from ../ALANV2_UpNN_ACBno_StgRes_AddNr_MS_5e-4/v1xt_p48_x3_test/results-B100/* to ../../Find_Crop/models/ALANV2-xt/B100/x3/\n",
      "copy from ../ALANV2_UpNN_ACBno_StgRes_AddNr_MS_5e-4/v1xt_p48_x3_test/results-Urban100/* to ../../Find_Crop/models/ALANV2-xt/Urban100/x3/\n",
      "copy from ../ALANV2_UpNN_ACBno_StgRes_AddNr_MS_5e-4/v1xt_p48_x3_test/results-Manga109/* to ../../Find_Crop/models/ALANV2-xt/Manga109/x3/\n",
      "copy from ../ALANV2_UpNN_ACBno_StgRes_AddNr_MS_5e-4/v1xt_p48_x4_test/results-Set5/* to ../../Find_Crop/models/ALANV2-xt/Set5/x4/\n",
      "copy from ../ALANV2_UpNN_ACBno_StgRes_AddNr_MS_5e-4/v1xt_p48_x4_test/results-Set14/* to ../../Find_Crop/models/ALANV2-xt/Set14/x4/\n",
      "copy from ../ALANV2_UpNN_ACBno_StgRes_AddNr_MS_5e-4/v1xt_p48_x4_test/results-B100/* to ../../Find_Crop/models/ALANV2-xt/B100/x4/\n",
      "copy from ../ALANV2_UpNN_ACBno_StgRes_AddNr_MS_5e-4/v1xt_p48_x4_test/results-Urban100/* to ../../Find_Crop/models/ALANV2-xt/Urban100/x4/\n",
      "copy from ../ALANV2_UpNN_ACBno_StgRes_AddNr_MS_5e-4/v1xt_p48_x4_test/results-Manga109/* to ../../Find_Crop/models/ALANV2-xt/Manga109/x4/\n",
      "copy from ../ALANV2_UpNN_ACBno_StgRes_AddNr_MS_5e-4/v1t_p48_x2_test/results-Set5/* to ../../Find_Crop/models/ALANV2-t/Set5/x2/\n",
      "copy from ../ALANV2_UpNN_ACBno_StgRes_AddNr_MS_5e-4/v1t_p48_x2_test/results-Set14/* to ../../Find_Crop/models/ALANV2-t/Set14/x2/\n",
      "copy from ../ALANV2_UpNN_ACBno_StgRes_AddNr_MS_5e-4/v1t_p48_x2_test/results-B100/* to ../../Find_Crop/models/ALANV2-t/B100/x2/\n",
      "copy from ../ALANV2_UpNN_ACBno_StgRes_AddNr_MS_5e-4/v1t_p48_x2_test/results-Urban100/* to ../../Find_Crop/models/ALANV2-t/Urban100/x2/\n",
      "copy from ../ALANV2_UpNN_ACBno_StgRes_AddNr_MS_5e-4/v1t_p48_x2_test/results-Manga109/* to ../../Find_Crop/models/ALANV2-t/Manga109/x2/\n",
      "copy from ../ALANV2_UpNN_ACBno_StgRes_AddNr_MS_5e-4/v1t_p48_x3_test/results-Set5/* to ../../Find_Crop/models/ALANV2-t/Set5/x3/\n",
      "copy from ../ALANV2_UpNN_ACBno_StgRes_AddNr_MS_5e-4/v1t_p48_x3_test/results-Set14/* to ../../Find_Crop/models/ALANV2-t/Set14/x3/\n",
      "copy from ../ALANV2_UpNN_ACBno_StgRes_AddNr_MS_5e-4/v1t_p48_x3_test/results-B100/* to ../../Find_Crop/models/ALANV2-t/B100/x3/\n",
      "copy from ../ALANV2_UpNN_ACBno_StgRes_AddNr_MS_5e-4/v1t_p48_x3_test/results-Urban100/* to ../../Find_Crop/models/ALANV2-t/Urban100/x3/\n",
      "copy from ../ALANV2_UpNN_ACBno_StgRes_AddNr_MS_5e-4/v1t_p48_x3_test/results-Manga109/* to ../../Find_Crop/models/ALANV2-t/Manga109/x3/\n",
      "copy from ../ALANV2_UpNN_ACBno_StgRes_AddNr_MS_5e-4/v1t_p48_x4_test/results-Set5/* to ../../Find_Crop/models/ALANV2-t/Set5/x4/\n",
      "copy from ../ALANV2_UpNN_ACBno_StgRes_AddNr_MS_5e-4/v1t_p48_x4_test/results-Set14/* to ../../Find_Crop/models/ALANV2-t/Set14/x4/\n",
      "copy from ../ALANV2_UpNN_ACBno_StgRes_AddNr_MS_5e-4/v1t_p48_x4_test/results-B100/* to ../../Find_Crop/models/ALANV2-t/B100/x4/\n",
      "copy from ../ALANV2_UpNN_ACBno_StgRes_AddNr_MS_5e-4/v1t_p48_x4_test/results-Urban100/* to ../../Find_Crop/models/ALANV2-t/Urban100/x4/\n",
      "copy from ../ALANV2_UpNN_ACBno_StgRes_AddNr_MS_5e-4/v1t_p48_x4_test/results-Manga109/* to ../../Find_Crop/models/ALANV2-t/Manga109/x4/\n",
      "copy from ../ALANV2_UpNN_ACBno_StgRes_AddNr_MS_5e-4/v1xs_p48_x2_test/results-Set5/* to ../../Find_Crop/models/ALANV2-xs/Set5/x2/\n",
      "copy from ../ALANV2_UpNN_ACBno_StgRes_AddNr_MS_5e-4/v1xs_p48_x2_test/results-Set14/* to ../../Find_Crop/models/ALANV2-xs/Set14/x2/\n",
      "copy from ../ALANV2_UpNN_ACBno_StgRes_AddNr_MS_5e-4/v1xs_p48_x2_test/results-B100/* to ../../Find_Crop/models/ALANV2-xs/B100/x2/\n",
      "copy from ../ALANV2_UpNN_ACBno_StgRes_AddNr_MS_5e-4/v1xs_p48_x2_test/results-Urban100/* to ../../Find_Crop/models/ALANV2-xs/Urban100/x2/\n",
      "copy from ../ALANV2_UpNN_ACBno_StgRes_AddNr_MS_5e-4/v1xs_p48_x2_test/results-Manga109/* to ../../Find_Crop/models/ALANV2-xs/Manga109/x2/\n",
      "copy from ../ALANV2_UpNN_ACBno_StgRes_AddNr_MS_5e-4/v1xs_p48_x3_test/results-Set5/* to ../../Find_Crop/models/ALANV2-xs/Set5/x3/\n",
      "copy from ../ALANV2_UpNN_ACBno_StgRes_AddNr_MS_5e-4/v1xs_p48_x3_test/results-Set14/* to ../../Find_Crop/models/ALANV2-xs/Set14/x3/\n",
      "copy from ../ALANV2_UpNN_ACBno_StgRes_AddNr_MS_5e-4/v1xs_p48_x3_test/results-B100/* to ../../Find_Crop/models/ALANV2-xs/B100/x3/\n",
      "copy from ../ALANV2_UpNN_ACBno_StgRes_AddNr_MS_5e-4/v1xs_p48_x3_test/results-Urban100/* to ../../Find_Crop/models/ALANV2-xs/Urban100/x3/\n",
      "copy from ../ALANV2_UpNN_ACBno_StgRes_AddNr_MS_5e-4/v1xs_p48_x3_test/results-Manga109/* to ../../Find_Crop/models/ALANV2-xs/Manga109/x3/\n",
      "copy from ../ALANV2_UpNN_ACBno_StgRes_AddNr_MS_5e-4/v1xs_p48_x4_test/results-Set5/* to ../../Find_Crop/models/ALANV2-xs/Set5/x4/\n",
      "copy from ../ALANV2_UpNN_ACBno_StgRes_AddNr_MS_5e-4/v1xs_p48_x4_test/results-Set14/* to ../../Find_Crop/models/ALANV2-xs/Set14/x4/\n",
      "copy from ../ALANV2_UpNN_ACBno_StgRes_AddNr_MS_5e-4/v1xs_p48_x4_test/results-B100/* to ../../Find_Crop/models/ALANV2-xs/B100/x4/\n",
      "copy from ../ALANV2_UpNN_ACBno_StgRes_AddNr_MS_5e-4/v1xs_p48_x4_test/results-Urban100/* to ../../Find_Crop/models/ALANV2-xs/Urban100/x4/\n",
      "copy from ../ALANV2_UpNN_ACBno_StgRes_AddNr_MS_5e-4/v1xs_p48_x4_test/results-Manga109/* to ../../Find_Crop/models/ALANV2-xs/Manga109/x4/\n"
     ]
    }
   ],
   "source": [
    "import os\n",
    "\n",
    "save_dir = '../../Find_Crop/models/'\n",
    "model_dir = '../ALANV2_UpNN_ACBno_StgRes_AddNr_MS_5e-4/v1'\n",
    "# models = ['v5fbxt', 'v5fbt', 'v5fblt']\n",
    "scales = ['2', '3', '4']\n",
    "models = ['xt', 't', 'xs']\n",
    "# scales = ['4']\n",
    "datasets = ['Set5', 'Set14', 'B100', 'Urban100', 'Manga109']\n",
    "for model in models:\n",
    "    for s in scales:\n",
    "        for d in datasets:\n",
    "            # record_dir = model_dir + model + '_x'+ s + '_test/results-' + d\n",
    "            record_dir = model_dir + model + '_p48' + '_x'+ s + '_test/results-' + d\n",
    "            # record_dir = model_dir + model + '_SmoothL1' + '_x'+ s + '_test/results-' + d  # for v5fs and v5s\n",
    "            if not os.path.exists(record_dir):\n",
    "                print(f\"training record path {record_dir} does not exist\")\n",
    "                continue\n",
    "            record_imgs = record_dir + os.sep + '*'\n",
    "            test_dir = save_dir + 'ALANV2-' + model + os.sep + d + os.sep + 'x' + s + os.sep\n",
    "            if not os.path.exists(test_dir):\n",
    "                os.makedirs(test_dir, exist_ok=True)\n",
    "            print(f\"copy from {record_imgs} to {test_dir}\")\n",
    "            os.popen('cp ' + record_imgs + ' ' + test_dir)\n"
   ]
  },
  {
   "cell_type": "code",
   "execution_count": 19,
   "id": "2b0f34d8-96be-4073-86cb-fd29673b409c",
   "metadata": {
    "execution": {
     "iopub.execute_input": "2023-09-26T08:29:23.469464Z",
     "iopub.status.busy": "2023-09-26T08:29:23.468748Z",
     "iopub.status.idle": "2023-09-26T08:29:23.818082Z",
     "shell.execute_reply": "2023-09-26T08:29:23.817144Z",
     "shell.execute_reply.started": "2023-09-26T08:29:23.469401Z"
    },
    "scrolled": true,
    "tags": []
   },
   "outputs": [
    {
     "name": "stdout",
     "output_type": "stream",
     "text": [
      "copy from ../DCAN/v2_UpNN_noACB_ACBno_StgRes_AddNr_MS_5e-4/dcanv2_t2_p48_bbLN_L1_x2_test/results-Set5/* to ../../Find_Crop/models/DCANV2_LNL1-t2/Set5/x2/\n",
      "copy from ../DCAN/v2_UpNN_noACB_ACBno_StgRes_AddNr_MS_5e-4/dcanv2_t2_p48_bbLN_L1_x2_test/results-Set14/* to ../../Find_Crop/models/DCANV2_LNL1-t2/Set14/x2/\n",
      "copy from ../DCAN/v2_UpNN_noACB_ACBno_StgRes_AddNr_MS_5e-4/dcanv2_t2_p48_bbLN_L1_x2_test/results-B100/* to ../../Find_Crop/models/DCANV2_LNL1-t2/B100/x2/\n",
      "copy from ../DCAN/v2_UpNN_noACB_ACBno_StgRes_AddNr_MS_5e-4/dcanv2_t2_p48_bbLN_L1_x2_test/results-Urban100/* to ../../Find_Crop/models/DCANV2_LNL1-t2/Urban100/x2/\n",
      "copy from ../DCAN/v2_UpNN_noACB_ACBno_StgRes_AddNr_MS_5e-4/dcanv2_t2_p48_bbLN_L1_x2_test/results-Manga109/* to ../../Find_Crop/models/DCANV2_LNL1-t2/Manga109/x2/\n",
      "copy from ../DCAN/v2_UpNN_noACB_ACBno_StgRes_AddNr_MS_5e-4/dcanv2_t2_p48_bbLN_L1_x3_test/results-Set5/* to ../../Find_Crop/models/DCANV2_LNL1-t2/Set5/x3/\n",
      "copy from ../DCAN/v2_UpNN_noACB_ACBno_StgRes_AddNr_MS_5e-4/dcanv2_t2_p48_bbLN_L1_x3_test/results-Set14/* to ../../Find_Crop/models/DCANV2_LNL1-t2/Set14/x3/\n",
      "copy from ../DCAN/v2_UpNN_noACB_ACBno_StgRes_AddNr_MS_5e-4/dcanv2_t2_p48_bbLN_L1_x3_test/results-B100/* to ../../Find_Crop/models/DCANV2_LNL1-t2/B100/x3/\n",
      "copy from ../DCAN/v2_UpNN_noACB_ACBno_StgRes_AddNr_MS_5e-4/dcanv2_t2_p48_bbLN_L1_x3_test/results-Urban100/* to ../../Find_Crop/models/DCANV2_LNL1-t2/Urban100/x3/\n",
      "copy from ../DCAN/v2_UpNN_noACB_ACBno_StgRes_AddNr_MS_5e-4/dcanv2_t2_p48_bbLN_L1_x3_test/results-Manga109/* to ../../Find_Crop/models/DCANV2_LNL1-t2/Manga109/x3/\n",
      "copy from ../DCAN/v2_UpNN_noACB_ACBno_StgRes_AddNr_MS_5e-4/dcanv2_t2_p48_bbLN_L1_x4_test/results-Set5/* to ../../Find_Crop/models/DCANV2_LNL1-t2/Set5/x4/\n",
      "copy from ../DCAN/v2_UpNN_noACB_ACBno_StgRes_AddNr_MS_5e-4/dcanv2_t2_p48_bbLN_L1_x4_test/results-Set14/* to ../../Find_Crop/models/DCANV2_LNL1-t2/Set14/x4/\n",
      "copy from ../DCAN/v2_UpNN_noACB_ACBno_StgRes_AddNr_MS_5e-4/dcanv2_t2_p48_bbLN_L1_x4_test/results-B100/* to ../../Find_Crop/models/DCANV2_LNL1-t2/B100/x4/\n",
      "copy from ../DCAN/v2_UpNN_noACB_ACBno_StgRes_AddNr_MS_5e-4/dcanv2_t2_p48_bbLN_L1_x4_test/results-Urban100/* to ../../Find_Crop/models/DCANV2_LNL1-t2/Urban100/x4/\n",
      "copy from ../DCAN/v2_UpNN_noACB_ACBno_StgRes_AddNr_MS_5e-4/dcanv2_t2_p48_bbLN_L1_x4_test/results-Manga109/* to ../../Find_Crop/models/DCANV2_LNL1-t2/Manga109/x4/\n",
      "copy from ../DCAN/v2_UpNN_noACB_ACBno_StgRes_AddNr_MS_5e-4/dcanv2_xt2_dep4_p48_bbLN_L1_x2_test/results-Set5/* to ../../Find_Crop/models/DCANV2_LNL1-xt2_dep4/Set5/x2/\n",
      "copy from ../DCAN/v2_UpNN_noACB_ACBno_StgRes_AddNr_MS_5e-4/dcanv2_xt2_dep4_p48_bbLN_L1_x2_test/results-Set14/* to ../../Find_Crop/models/DCANV2_LNL1-xt2_dep4/Set14/x2/\n",
      "copy from ../DCAN/v2_UpNN_noACB_ACBno_StgRes_AddNr_MS_5e-4/dcanv2_xt2_dep4_p48_bbLN_L1_x2_test/results-B100/* to ../../Find_Crop/models/DCANV2_LNL1-xt2_dep4/B100/x2/\n",
      "copy from ../DCAN/v2_UpNN_noACB_ACBno_StgRes_AddNr_MS_5e-4/dcanv2_xt2_dep4_p48_bbLN_L1_x2_test/results-Urban100/* to ../../Find_Crop/models/DCANV2_LNL1-xt2_dep4/Urban100/x2/\n",
      "copy from ../DCAN/v2_UpNN_noACB_ACBno_StgRes_AddNr_MS_5e-4/dcanv2_xt2_dep4_p48_bbLN_L1_x2_test/results-Manga109/* to ../../Find_Crop/models/DCANV2_LNL1-xt2_dep4/Manga109/x2/\n",
      "copy from ../DCAN/v2_UpNN_noACB_ACBno_StgRes_AddNr_MS_5e-4/dcanv2_xt2_dep4_p48_bbLN_L1_x3_test/results-Set5/* to ../../Find_Crop/models/DCANV2_LNL1-xt2_dep4/Set5/x3/\n",
      "copy from ../DCAN/v2_UpNN_noACB_ACBno_StgRes_AddNr_MS_5e-4/dcanv2_xt2_dep4_p48_bbLN_L1_x3_test/results-Set14/* to ../../Find_Crop/models/DCANV2_LNL1-xt2_dep4/Set14/x3/\n",
      "copy from ../DCAN/v2_UpNN_noACB_ACBno_StgRes_AddNr_MS_5e-4/dcanv2_xt2_dep4_p48_bbLN_L1_x3_test/results-B100/* to ../../Find_Crop/models/DCANV2_LNL1-xt2_dep4/B100/x3/\n",
      "copy from ../DCAN/v2_UpNN_noACB_ACBno_StgRes_AddNr_MS_5e-4/dcanv2_xt2_dep4_p48_bbLN_L1_x3_test/results-Urban100/* to ../../Find_Crop/models/DCANV2_LNL1-xt2_dep4/Urban100/x3/\n",
      "copy from ../DCAN/v2_UpNN_noACB_ACBno_StgRes_AddNr_MS_5e-4/dcanv2_xt2_dep4_p48_bbLN_L1_x3_test/results-Manga109/* to ../../Find_Crop/models/DCANV2_LNL1-xt2_dep4/Manga109/x3/\n",
      "copy from ../DCAN/v2_UpNN_noACB_ACBno_StgRes_AddNr_MS_5e-4/dcanv2_xt2_dep4_p48_bbLN_L1_x4_test/results-Set5/* to ../../Find_Crop/models/DCANV2_LNL1-xt2_dep4/Set5/x4/\n",
      "copy from ../DCAN/v2_UpNN_noACB_ACBno_StgRes_AddNr_MS_5e-4/dcanv2_xt2_dep4_p48_bbLN_L1_x4_test/results-Set14/* to ../../Find_Crop/models/DCANV2_LNL1-xt2_dep4/Set14/x4/\n",
      "copy from ../DCAN/v2_UpNN_noACB_ACBno_StgRes_AddNr_MS_5e-4/dcanv2_xt2_dep4_p48_bbLN_L1_x4_test/results-B100/* to ../../Find_Crop/models/DCANV2_LNL1-xt2_dep4/B100/x4/\n",
      "copy from ../DCAN/v2_UpNN_noACB_ACBno_StgRes_AddNr_MS_5e-4/dcanv2_xt2_dep4_p48_bbLN_L1_x4_test/results-Urban100/* to ../../Find_Crop/models/DCANV2_LNL1-xt2_dep4/Urban100/x4/\n",
      "copy from ../DCAN/v2_UpNN_noACB_ACBno_StgRes_AddNr_MS_5e-4/dcanv2_xt2_dep4_p48_bbLN_L1_x4_test/results-Manga109/* to ../../Find_Crop/models/DCANV2_LNL1-xt2_dep4/Manga109/x4/\n"
     ]
    }
   ],
   "source": [
    "import os\n",
    "\n",
    "save_dir = '../../Find_Crop/models/'\n",
    "model_dir = '../DCAN/v2_UpNN_noACB_ACBno_StgRes_AddNr_MS_5e-4/'\n",
    "# models = ['v5fbxt', 'v5fbt', 'v5fblt']\n",
    "scales = ['2', '3', '4']\n",
    "models = ['t2', 'xt2_dep4']\n",
    "# scales = ['4']\n",
    "datasets = ['Set5', 'Set14', 'B100', 'Urban100', 'Manga109']\n",
    "for model in models:\n",
    "    for s in scales:\n",
    "        for d in datasets:\n",
    "            # record_dir = model_dir + model + '_x'+ s + '_test/results-' + d\n",
    "            # record_dir = model_dir + 'dcanv2_' + model + '_p48' + '_x'+ s + '_test/results-' + d\n",
    "            record_dir = model_dir + 'dcanv2_' + model + '_p48_bbLN_L1' + '_x'+ s + '_test/results-' + d\n",
    "            # record_dir = model_dir + model + '_SmoothL1' + '_x'+ s + '_test/results-' + d  # for v5fs and v5s\n",
    "            if not os.path.exists(record_dir):\n",
    "                print(f\"training record path {record_dir} does not exist\")\n",
    "                continue\n",
    "            record_imgs = record_dir + os.sep + '*'\n",
    "            test_dir = save_dir + 'DCANV2_LNL1-' + model + os.sep + d + os.sep + 'x' + s + os.sep\n",
    "            if not os.path.exists(test_dir):\n",
    "                os.makedirs(test_dir, exist_ok=True)\n",
    "            print(f\"copy from {record_imgs} to {test_dir}\")\n",
    "            os.popen('cp ' + record_imgs + ' ' + test_dir)\n"
   ]
  },
  {
   "cell_type": "markdown",
   "id": "2d3b07d8-1e88-422a-9b86-225cc0760f9f",
   "metadata": {},
   "source": [
    "# 移动 historical 测试图像到寻找优势 crop文件夹中"
   ]
  },
  {
   "cell_type": "code",
   "execution_count": 1,
   "id": "c938304e-12d6-453c-b625-32055a0668c8",
   "metadata": {
    "execution": {
     "iopub.execute_input": "2023-05-16T09:24:23.821382Z",
     "iopub.status.busy": "2023-05-16T09:24:23.820685Z",
     "iopub.status.idle": "2023-05-16T09:24:24.153417Z",
     "shell.execute_reply": "2023-05-16T09:24:24.152410Z",
     "shell.execute_reply.started": "2023-05-16T09:24:23.821324Z"
    },
    "scrolled": true,
    "tags": []
   },
   "outputs": [
    {
     "name": "stdout",
     "output_type": "stream",
     "text": [
      "copy from ../runtime_models/historical/alan_v1xs_x2/results-Demo/* to ../../Find_Crop/historical/alan_v1xs/historical/x2/\n",
      "copy from ../runtime_models/historical/alan_v1xs_x3/results-Demo/* to ../../Find_Crop/historical/alan_v1xs/historical/x3/\n",
      "copy from ../runtime_models/historical/alan_v1xs_x4/results-Demo/* to ../../Find_Crop/historical/alan_v1xs/historical/x4/\n",
      "copy from ../runtime_models/historical/alan_v1s_x2/results-Demo/* to ../../Find_Crop/historical/alan_v1s/historical/x2/\n",
      "copy from ../runtime_models/historical/alan_v1s_x3/results-Demo/* to ../../Find_Crop/historical/alan_v1s/historical/x3/\n",
      "copy from ../runtime_models/historical/alan_v1s_x4/results-Demo/* to ../../Find_Crop/historical/alan_v1s/historical/x4/\n",
      "copy from ../runtime_models/historical/alan_v1t_x2/results-Demo/* to ../../Find_Crop/historical/alan_v1t/historical/x2/\n",
      "copy from ../runtime_models/historical/alan_v1t_x3/results-Demo/* to ../../Find_Crop/historical/alan_v1t/historical/x3/\n",
      "copy from ../runtime_models/historical/alan_v1t_x4/results-Demo/* to ../../Find_Crop/historical/alan_v1t/historical/x4/\n",
      "copy from ../runtime_models/historical/alan_v1xt_x2/results-Demo/* to ../../Find_Crop/historical/alan_v1xt/historical/x2/\n",
      "copy from ../runtime_models/historical/alan_v1xt_x3/results-Demo/* to ../../Find_Crop/historical/alan_v1xt/historical/x3/\n",
      "copy from ../runtime_models/historical/alan_v1xt_x4/results-Demo/* to ../../Find_Crop/historical/alan_v1xt/historical/x4/\n",
      "copy from ../runtime_models/historical/Bicubic_x2/results-Demo/* to ../../Find_Crop/historical/Bicubic/historical/x2/\n",
      "copy from ../runtime_models/historical/Bicubic_x3/results-Demo/* to ../../Find_Crop/historical/Bicubic/historical/x3/\n",
      "copy from ../runtime_models/historical/Bicubic_x4/results-Demo/* to ../../Find_Crop/historical/Bicubic/historical/x4/\n",
      "copy from ../runtime_models/historical/CARN_x2/results-Demo/* to ../../Find_Crop/historical/CARN/historical/x2/\n",
      "copy from ../runtime_models/historical/CARN_x3/results-Demo/* to ../../Find_Crop/historical/CARN/historical/x3/\n",
      "copy from ../runtime_models/historical/CARN_x4/results-Demo/* to ../../Find_Crop/historical/CARN/historical/x4/\n",
      "copy from ../runtime_models/historical/EDSR-baseline_x2/results-Demo/* to ../../Find_Crop/historical/EDSR-baseline/historical/x2/\n",
      "copy from ../runtime_models/historical/EDSR-baseline_x3/results-Demo/* to ../../Find_Crop/historical/EDSR-baseline/historical/x3/\n",
      "copy from ../runtime_models/historical/EDSR-baseline_x4/results-Demo/* to ../../Find_Crop/historical/EDSR-baseline/historical/x4/\n",
      "copy from ../runtime_models/historical/LatticeNet_x2/results-Demo/* to ../../Find_Crop/historical/LatticeNet/historical/x2/\n",
      "copy from ../runtime_models/historical/LatticeNet_x3/results-Demo/* to ../../Find_Crop/historical/LatticeNet/historical/x3/\n",
      "copy from ../runtime_models/historical/LatticeNet_x4/results-Demo/* to ../../Find_Crop/historical/LatticeNet/historical/x4/\n",
      "copy from ../runtime_models/historical/LBNet_x2/results-Demo/* to ../../Find_Crop/historical/LBNet/historical/x2/\n",
      "copy from ../runtime_models/historical/LBNet_x3/results-Demo/* to ../../Find_Crop/historical/LBNet/historical/x3/\n",
      "copy from ../runtime_models/historical/LBNet_x4/results-Demo/* to ../../Find_Crop/historical/LBNet/historical/x4/\n",
      "copy from ../runtime_models/historical/ShuffleMixer-base_x2/results-Demo/* to ../../Find_Crop/historical/ShuffleMixer-base/historical/x2/\n",
      "copy from ../runtime_models/historical/ShuffleMixer-base_x3/results-Demo/* to ../../Find_Crop/historical/ShuffleMixer-base/historical/x3/\n",
      "copy from ../runtime_models/historical/ShuffleMixer-base_x4/results-Demo/* to ../../Find_Crop/historical/ShuffleMixer-base/historical/x4/\n",
      "copy from ../runtime_models/historical/ShuffleMixer-tiny_x2/results-Demo/* to ../../Find_Crop/historical/ShuffleMixer-tiny/historical/x2/\n",
      "copy from ../runtime_models/historical/ShuffleMixer-tiny_x3/results-Demo/* to ../../Find_Crop/historical/ShuffleMixer-tiny/historical/x3/\n",
      "copy from ../runtime_models/historical/ShuffleMixer-tiny_x4/results-Demo/* to ../../Find_Crop/historical/ShuffleMixer-tiny/historical/x4/\n"
     ]
    }
   ],
   "source": [
    "import os\n",
    "\n",
    "save_dir = '../../Find_Crop/historical/'\n",
    "model_dir = '../runtime_models/historical/'\n",
    "# models = ['v5fbxt', 'v5fbt', 'v5fblt']\n",
    "scales = ['2', '3', '4']\n",
    "models = ['alan_v1xs', 'alan_v1s', 'alan_v1t', 'alan_v1xt', 'Bicubic', 'CARN', 'EDSR-baseline', 'LatticeNet', 'LBNet', 'ShuffleMixer-base', 'ShuffleMixer-tiny']\n",
    "# scales = ['4']\n",
    "datasets = ['Demo']\n",
    "for model in models:\n",
    "    for s in scales:\n",
    "        for d in datasets:\n",
    "            # record_dir = model_dir + model + '_x'+ s + '_test/results-' + d\n",
    "            record_dir = model_dir + model + '_x'+ s + '/results-' + d\n",
    "            # record_dir = model_dir + model + '_SmoothL1' + '_x'+ s + '_test/results-' + d  # for v5fs and v5s\n",
    "            if not os.path.exists(record_dir):\n",
    "                print(f\"training record path {record_dir} does not exist\")\n",
    "                continue\n",
    "            record_imgs = record_dir + os.sep + '*'\n",
    "            test_dir = save_dir + model + os.sep + 'historical' + os.sep + 'x' + s + os.sep\n",
    "            if not os.path.exists(test_dir):\n",
    "                os.makedirs(test_dir, exist_ok=True)\n",
    "            print(f\"copy from {record_imgs} to {test_dir}\")\n",
    "            os.popen('cp ' + record_imgs + ' ' + test_dir)\n"
   ]
  },
  {
   "cell_type": "code",
   "execution_count": 2,
   "id": "81eb7c79-6648-43fc-851c-81c5a92fcbd9",
   "metadata": {
    "execution": {
     "iopub.execute_input": "2023-08-14T17:39:50.811304Z",
     "iopub.status.busy": "2023-08-14T17:39:50.810538Z",
     "iopub.status.idle": "2023-08-14T17:39:50.895891Z",
     "shell.execute_reply": "2023-08-14T17:39:50.893573Z",
     "shell.execute_reply.started": "2023-08-14T17:39:50.811238Z"
    },
    "tags": []
   },
   "outputs": [
    {
     "name": "stdout",
     "output_type": "stream",
     "text": [
      "copy from ../runtime_models/historical/dcanv2_t2_x2/results-Demo/* to ../../Find_Crop/historical/dcanv2_t2/historical/x2/\n",
      "copy from ../runtime_models/historical/dcanv2_t2_x3/results-Demo/* to ../../Find_Crop/historical/dcanv2_t2/historical/x3/\n",
      "copy from ../runtime_models/historical/dcanv2_t2_x4/results-Demo/* to ../../Find_Crop/historical/dcanv2_t2/historical/x4/\n",
      "copy from ../runtime_models/historical/dcanv2_xt2_x2/results-Demo/* to ../../Find_Crop/historical/dcanv2_xt2/historical/x2/\n",
      "copy from ../runtime_models/historical/dcanv2_xt2_x3/results-Demo/* to ../../Find_Crop/historical/dcanv2_xt2/historical/x3/\n",
      "copy from ../runtime_models/historical/dcanv2_xt2_x4/results-Demo/* to ../../Find_Crop/historical/dcanv2_xt2/historical/x4/\n"
     ]
    }
   ],
   "source": [
    "import os\n",
    "\n",
    "save_dir = '../../Find_Crop/historical/'\n",
    "model_dir = '../runtime_models/historical/'\n",
    "# models = ['v5fbxt', 'v5fbt', 'v5fblt']\n",
    "scales = ['2', '3', '4']\n",
    "models = ['dcanv2_t2', 'dcanv2_xt2']\n",
    "# scales = ['4']\n",
    "datasets = ['Demo']\n",
    "for model in models:\n",
    "    for s in scales:\n",
    "        for d in datasets:\n",
    "            # record_dir = model_dir + model + '_x'+ s + '_test/results-' + d\n",
    "            record_dir = model_dir + model + '_x'+ s + '/results-' + d\n",
    "            # record_dir = model_dir + model + '_SmoothL1' + '_x'+ s + '_test/results-' + d  # for v5fs and v5s\n",
    "            if not os.path.exists(record_dir):\n",
    "                print(f\"training record path {record_dir} does not exist\")\n",
    "                continue\n",
    "            record_imgs = record_dir + os.sep + '*'\n",
    "            test_dir = save_dir + model + os.sep + 'historical' + os.sep + 'x' + s + os.sep\n",
    "            if not os.path.exists(test_dir):\n",
    "                os.makedirs(test_dir, exist_ok=True)\n",
    "            print(f\"copy from {record_imgs} to {test_dir}\")\n",
    "            os.popen('cp ' + record_imgs + ' ' + test_dir)\n"
   ]
  }
 ],
 "metadata": {
  "kernelspec": {
   "display_name": "Python 3 (ipykernel)",
   "language": "python",
   "name": "python3"
  },
  "language_info": {
   "codemirror_mode": {
    "name": "ipython",
    "version": 3
   },
   "file_extension": ".py",
   "mimetype": "text/x-python",
   "name": "python",
   "nbconvert_exporter": "python",
   "pygments_lexer": "ipython3",
   "version": "3.8.5"
  }
 },
 "nbformat": 4,
 "nbformat_minor": 5
}
