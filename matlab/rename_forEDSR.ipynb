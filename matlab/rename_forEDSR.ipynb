{
 "cells": [
  {
   "cell_type": "markdown",
   "id": "bbd88f78-d494-44d1-9177-7007aeded516",
   "metadata": {},
   "source": [
    "After copy the LR images generated from using Prepare_TestData_HR_LR.m script to ../../dataset/benchmark/ dir,\n",
    "use this to rename the image names to EDSR-PyTorch format.\n",
    "\n",
    "Copy this file into the folder \"LR_bicubic\" under the dataset dir."
   ]
  },
  {
   "cell_type": "code",
   "execution_count": 1,
   "id": "6efc7f87-0e75-4f52-88c6-6ec37bbdcf0a",
   "metadata": {
    "execution": {
     "iopub.execute_input": "2023-03-06T06:19:39.236208Z",
     "iopub.status.busy": "2023-03-06T06:19:39.235312Z",
     "iopub.status.idle": "2023-03-06T06:19:39.244452Z",
     "shell.execute_reply": "2023-03-06T06:19:39.242585Z",
     "shell.execute_reply.started": "2023-03-06T06:19:39.236142Z"
    },
    "tags": []
   },
   "outputs": [],
   "source": [
    "import os\n",
    "fileList=os.listdir('./')"
   ]
  },
  {
   "cell_type": "code",
   "execution_count": 4,
   "id": "ed648948-8533-4c3f-9443-34ecae5560d6",
   "metadata": {
    "execution": {
     "iopub.execute_input": "2023-03-06T06:20:20.451798Z",
     "iopub.status.busy": "2023-03-06T06:20:20.451145Z",
     "iopub.status.idle": "2023-03-06T06:20:20.460862Z",
     "shell.execute_reply": "2023-03-06T06:20:20.459733Z",
     "shell.execute_reply.started": "2023-03-06T06:20:20.451742Z"
    },
    "tags": []
   },
   "outputs": [
    {
     "data": {
      "text/plain": [
       "['X8', '.ipynb_checkpoints', 'X4', 'X2', 'Untitled.ipynb', 'X3']"
      ]
     },
     "execution_count": 4,
     "metadata": {},
     "output_type": "execute_result"
    }
   ],
   "source": [
    "fileList"
   ]
  },
  {
   "cell_type": "code",
   "execution_count": 12,
   "id": "761bb941-1173-4981-a551-8c6d846810d7",
   "metadata": {
    "execution": {
     "iopub.execute_input": "2023-03-06T06:34:14.331389Z",
     "iopub.status.busy": "2023-03-06T06:34:14.330513Z",
     "iopub.status.idle": "2023-03-06T06:34:14.349454Z",
     "shell.execute_reply": "2023-03-06T06:34:14.348655Z",
     "shell.execute_reply.started": "2023-03-06T06:34:14.331294Z"
    },
    "tags": []
   },
   "outputs": [],
   "source": [
    "x2=os.listdir('./X2')\n",
    "x3=os.listdir('./X3')\n",
    "x4=os.listdir('./X4')\n",
    "x8=os.listdir('./X8')\n",
    "\n",
    "# i = 0\n",
    "# for img in x2:\n",
    "#     old = './X2' + os.sep + x2[i]\n",
    "#     # print(old)\n",
    "#     new = old.replace('_LRBI_', '')\n",
    "#     # print(new)\n",
    "#     os.rename(old, new)\n",
    "#     i+=1\n",
    "\n",
    "i = 0\n",
    "for img in x3:\n",
    "    old = './X3' + os.sep + x3[i]\n",
    "    # print(old)\n",
    "    new = old.replace('_LRBI_', '')\n",
    "    # print(new)\n",
    "    os.rename(old, new)\n",
    "    i+=1\n",
    "\n",
    "i = 0\n",
    "for img in x4:\n",
    "    old = './X4' + os.sep + x4[i]\n",
    "    # print(old)\n",
    "    new = old.replace('_LRBI_', '')\n",
    "    # print(new)\n",
    "    os.rename(old, new)\n",
    "    i+=1\n",
    "\n",
    "i = 0\n",
    "for img in x8:\n",
    "    old = './X8' + os.sep + x8[i]\n",
    "    # print(old)\n",
    "    new = old.replace('_LRBI_', '')\n",
    "    # print(new)\n",
    "    os.rename(old, new)\n",
    "    i+=1"
   ]
  }
 ],
 "metadata": {
  "kernelspec": {
   "display_name": "Python 3 (ipykernel)",
   "language": "python",
   "name": "python3"
  },
  "language_info": {
   "codemirror_mode": {
    "name": "ipython",
    "version": 3
   },
   "file_extension": ".py",
   "mimetype": "text/x-python",
   "name": "python",
   "nbconvert_exporter": "python",
   "pygments_lexer": "ipython3",
   "version": "3.9.17"
  }
 },
 "nbformat": 4,
 "nbformat_minor": 5
}
