{
 "cells": [
  {
   "cell_type": "code",
   "execution_count": 1,
   "id": "463ad7e8-7d6e-4833-957b-6224d8b165b2",
   "metadata": {
    "execution": {
     "iopub.execute_input": "2023-06-17T13:41:08.177522Z",
     "iopub.status.busy": "2023-06-17T13:41:08.176879Z",
     "iopub.status.idle": "2023-06-17T13:41:08.280771Z",
     "shell.execute_reply": "2023-06-17T13:41:08.278940Z",
     "shell.execute_reply.started": "2023-06-17T13:41:08.177463Z"
    },
    "tags": []
   },
   "outputs": [
    {
     "name": "stdout",
     "output_type": "stream",
     "text": [
      "copy from ./HR/720P/x2/* to ../../dataset/runtime/720P/HR\n",
      "copy from ./LR/LRBI/720P/x2/* to ../../dataset/runtime/720P/LR_bicubic/X2\n",
      "copy from ./LR/LRBI/720P/x3/* to ../../dataset/runtime/720P/LR_bicubic/X3\n",
      "copy from ./LR/LRBI/720P/x4/* to ../../dataset/runtime/720P/LR_bicubic/X4\n",
      "copy from ./LR/LRBI/720P/x8/* to ../../dataset/runtime/720P/LR_bicubic/X8\n",
      "copy from ./HR/1080P/x2/* to ../../dataset/runtime/1080P/HR\n",
      "copy from ./LR/LRBI/1080P/x2/* to ../../dataset/runtime/1080P/LR_bicubic/X2\n",
      "copy from ./LR/LRBI/1080P/x3/* to ../../dataset/runtime/1080P/LR_bicubic/X3\n",
      "copy from ./LR/LRBI/1080P/x4/* to ../../dataset/runtime/1080P/LR_bicubic/X4\n",
      "copy from ./LR/LRBI/1080P/x8/* to ../../dataset/runtime/1080P/LR_bicubic/X8\n",
      "copy from ./HR/4K/x2/* to ../../dataset/runtime/4K/HR\n",
      "copy from ./LR/LRBI/4K/x2/* to ../../dataset/runtime/4K/LR_bicubic/X2\n",
      "copy from ./LR/LRBI/4K/x3/* to ../../dataset/runtime/4K/LR_bicubic/X3\n",
      "copy from ./LR/LRBI/4K/x4/* to ../../dataset/runtime/4K/LR_bicubic/X4\n",
      "copy from ./LR/LRBI/4K/x8/* to ../../dataset/runtime/4K/LR_bicubic/X8\n"
     ]
    }
   ],
   "source": [
    "import os\n",
    "import subprocess\n",
    "\n",
    "save_dir = '../../dataset/runtime'\n",
    "datasets = ['720P', '1080P', '4K']\n",
    "scales = ['2', '3', '4', '8']\n",
    "\n",
    "for d in datasets:\n",
    "    hr_dir = save_dir + os.sep + d + os.sep + 'HR'\n",
    "    if not os.path.exists(hr_dir):\n",
    "        os.makedirs(hr_dir, exist_ok=True)\n",
    "    hr_gen = './HR/' + d + '/x2/*'\n",
    "    print(f\"copy from {hr_gen} to {hr_dir}\")\n",
    "    os.popen('cp ' + hr_gen + ' ' + hr_dir)\n",
    "    for s in scales:\n",
    "        lr_dir = save_dir + os.sep + d + os.sep + 'LR_bicubic/X' + s\n",
    "        if not os.path.exists(lr_dir):\n",
    "            os.makedirs(lr_dir, exist_ok=True)\n",
    "        lr_gen = './LR/LRBI/' + d + '/x' + s + '/*'\n",
    "        print(f\"copy from {lr_gen} to {lr_dir}\")\n",
    "        os.popen('cp ' + lr_gen + ' ' + lr_dir)\n",
    "\n",
    "        \n",
    "\n",
    "            # record_dir = '../repecn/repecn_' + model + '_x'+ s + '_test/results-' + d\n",
    "            # if not os.path.exists(record_dir):\n",
    "            #     print(f\"training record path {record_dir} does not exist\")\n",
    "            #     continue\n"
   ]
  },
  {
   "cell_type": "code",
   "execution_count": 2,
   "id": "db919f2f-121c-45c1-9d4e-468f3b6a1c95",
   "metadata": {
    "execution": {
     "iopub.execute_input": "2023-06-17T13:41:23.107419Z",
     "iopub.status.busy": "2023-06-17T13:41:23.106764Z",
     "iopub.status.idle": "2023-06-17T13:41:23.147909Z",
     "shell.execute_reply": "2023-06-17T13:41:23.146526Z",
     "shell.execute_reply.started": "2023-06-17T13:41:23.107362Z"
    },
    "tags": []
   },
   "outputs": [
    {
     "name": "stdout",
     "output_type": "stream",
     "text": [
      "rename from ../../dataset/runtime/720P/HR/172277_HR_x2.png to ../../dataset/runtime/720P/HR/172277.png\n",
      "rename from ../../dataset/runtime/720P/HR/172277.png to ../../dataset/runtime/720P/HR/172277.png\n",
      "rename from ../../dataset/runtime/720P/LR_bicubic/X2/172277x2.png to ../../dataset/runtime/720P/LR_bicubic/X2/172277x2.png\n",
      "rename from ../../dataset/runtime/720P/LR_bicubic/X2/172277_LRBI_x2.png to ../../dataset/runtime/720P/LR_bicubic/X2/172277x2.png\n",
      "rename from ../../dataset/runtime/720P/LR_bicubic/X3/172277_LRBI_x3.png to ../../dataset/runtime/720P/LR_bicubic/X3/172277x3.png\n",
      "rename from ../../dataset/runtime/720P/LR_bicubic/X3/172277x3.png to ../../dataset/runtime/720P/LR_bicubic/X3/172277x3.png\n",
      "rename from ../../dataset/runtime/720P/LR_bicubic/X4/172277x4.png to ../../dataset/runtime/720P/LR_bicubic/X4/172277x4.png\n",
      "rename from ../../dataset/runtime/720P/LR_bicubic/X4/172277_LRBI_x4.png to ../../dataset/runtime/720P/LR_bicubic/X4/172277x4.png\n",
      "rename from ../../dataset/runtime/720P/LR_bicubic/X8/172277x8.png to ../../dataset/runtime/720P/LR_bicubic/X8/172277x8.png\n",
      "rename from ../../dataset/runtime/720P/LR_bicubic/X8/172277_LRBI_x8.png to ../../dataset/runtime/720P/LR_bicubic/X8/172277x8.png\n",
      "rename from ../../dataset/runtime/1080P/HR/172267_HR_x2.png to ../../dataset/runtime/1080P/HR/172267.png\n",
      "rename from ../../dataset/runtime/1080P/HR/172267.png to ../../dataset/runtime/1080P/HR/172267.png\n",
      "rename from ../../dataset/runtime/1080P/LR_bicubic/X2/172267x2.png to ../../dataset/runtime/1080P/LR_bicubic/X2/172267x2.png\n",
      "rename from ../../dataset/runtime/1080P/LR_bicubic/X2/172267_LRBI_x2.png to ../../dataset/runtime/1080P/LR_bicubic/X2/172267x2.png\n",
      "rename from ../../dataset/runtime/1080P/LR_bicubic/X3/172267_LRBI_x3.png to ../../dataset/runtime/1080P/LR_bicubic/X3/172267x3.png\n",
      "rename from ../../dataset/runtime/1080P/LR_bicubic/X3/172267x3.png to ../../dataset/runtime/1080P/LR_bicubic/X3/172267x3.png\n",
      "rename from ../../dataset/runtime/1080P/LR_bicubic/X4/172267x4.png to ../../dataset/runtime/1080P/LR_bicubic/X4/172267x4.png\n",
      "rename from ../../dataset/runtime/1080P/LR_bicubic/X4/172267_LRBI_x4.png to ../../dataset/runtime/1080P/LR_bicubic/X4/172267x4.png\n",
      "rename from ../../dataset/runtime/1080P/LR_bicubic/X8/172267x8.png to ../../dataset/runtime/1080P/LR_bicubic/X8/172267x8.png\n",
      "rename from ../../dataset/runtime/1080P/LR_bicubic/X8/172267_LRBI_x8.png to ../../dataset/runtime/1080P/LR_bicubic/X8/172267x8.png\n",
      "rename from ../../dataset/runtime/4K/HR/172275.png to ../../dataset/runtime/4K/HR/172275.png\n",
      "rename from ../../dataset/runtime/4K/HR/172275_HR_x2.png to ../../dataset/runtime/4K/HR/172275.png\n",
      "rename from ../../dataset/runtime/4K/LR_bicubic/X2/172275x2.png to ../../dataset/runtime/4K/LR_bicubic/X2/172275x2.png\n",
      "rename from ../../dataset/runtime/4K/LR_bicubic/X2/172275_LRBI_x2.png to ../../dataset/runtime/4K/LR_bicubic/X2/172275x2.png\n",
      "rename from ../../dataset/runtime/4K/LR_bicubic/X3/172275_LRBI_x3.png to ../../dataset/runtime/4K/LR_bicubic/X3/172275x3.png\n",
      "rename from ../../dataset/runtime/4K/LR_bicubic/X3/172275x3.png to ../../dataset/runtime/4K/LR_bicubic/X3/172275x3.png\n",
      "rename from ../../dataset/runtime/4K/LR_bicubic/X4/172275x4.png to ../../dataset/runtime/4K/LR_bicubic/X4/172275x4.png\n",
      "rename from ../../dataset/runtime/4K/LR_bicubic/X4/172275_LRBI_x4.png to ../../dataset/runtime/4K/LR_bicubic/X4/172275x4.png\n",
      "rename from ../../dataset/runtime/4K/LR_bicubic/X8/172275x8.png to ../../dataset/runtime/4K/LR_bicubic/X8/172275x8.png\n",
      "rename from ../../dataset/runtime/4K/LR_bicubic/X8/172275_LRBI_x8.png to ../../dataset/runtime/4K/LR_bicubic/X8/172275x8.png\n"
     ]
    }
   ],
   "source": [
    "# rename the copied images to suit EDSR-PyTorch format\n",
    "for d in datasets:\n",
    "    hr_dir = save_dir + os.sep + d + os.sep + 'HR'\n",
    "    for hr in os.listdir(hr_dir):\n",
    "        old = hr_dir + os.sep + hr\n",
    "        new = old.replace('_HR_x2', '')\n",
    "        print(f\"rename from {old} to {new}\")\n",
    "        os.rename(old, new)\n",
    "    for s in scales:\n",
    "        lr_dir = save_dir + os.sep + d + os.sep + 'LR_bicubic/X' + s\n",
    "        for lr in os.listdir(lr_dir):\n",
    "            old = lr_dir + os.sep + lr\n",
    "            new = old.replace('_LRBI_', '')\n",
    "            print(f\"rename from {old} to {new}\")\n",
    "            os.rename(old, new)"
   ]
  }
 ],
 "metadata": {
  "kernelspec": {
   "display_name": "Python 3 (ipykernel)",
   "language": "python",
   "name": "python3"
  },
  "language_info": {
   "codemirror_mode": {
    "name": "ipython",
    "version": 3
   },
   "file_extension": ".py",
   "mimetype": "text/x-python",
   "name": "python",
   "nbconvert_exporter": "python",
   "pygments_lexer": "ipython3",
   "version": "3.8.5"
  }
 },
 "nbformat": 4,
 "nbformat_minor": 5
}
