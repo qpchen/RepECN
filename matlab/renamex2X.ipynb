{
 "cells": [
  {
   "cell_type": "code",
   "execution_count": 2,
   "id": "d3372f04-b4c9-4be5-9b75-47899f445a41",
   "metadata": {
    "execution": {
     "iopub.execute_input": "2023-06-17T13:00:54.052234Z",
     "iopub.status.busy": "2023-06-17T13:00:54.051406Z",
     "iopub.status.idle": "2023-06-17T13:00:55.267753Z",
     "shell.execute_reply": "2023-06-17T13:00:55.266113Z",
     "shell.execute_reply.started": "2023-06-17T13:00:54.052177Z"
    },
    "scrolled": true,
    "tags": []
   },
   "outputs": [
    {
     "name": "stdout",
     "output_type": "stream",
     "text": [
      "mv ../../dataset/benchmark/B100/LR_BI/X8 ../../dataset/benchmark/B100/LR_BI/X8\n",
      "mv ../../dataset/benchmark/B100/LR_BI/X4 ../../dataset/benchmark/B100/LR_BI/X4\n",
      "mv ../../dataset/benchmark/B100/LR_BI/X2 ../../dataset/benchmark/B100/LR_BI/X2\n",
      "mv ../../dataset/benchmark/B100/LR_BI/X3 ../../dataset/benchmark/B100/LR_BI/X3\n",
      "mv ../../dataset/benchmark/B100/LR_DN/X3 ../../dataset/benchmark/B100/LR_DN/X3\n",
      "mv ../../dataset/benchmark/B100/LR_BD/X3 ../../dataset/benchmark/B100/LR_BD/X3\n",
      "mv ../../dataset/benchmark/B100/LR_bicubic/X4 ../../dataset/benchmark/B100/LR_bicubic/X4\n",
      "mv ../../dataset/benchmark/B100/LR_bicubic/X2 ../../dataset/benchmark/B100/LR_bicubic/X2\n",
      "mv ../../dataset/benchmark/B100/LR_bicubic/X3 ../../dataset/benchmark/B100/LR_bicubic/X3\n",
      "mv ../../dataset/benchmark/Set14/LR_BI/X8 ../../dataset/benchmark/Set14/LR_BI/X8\n",
      "mv ../../dataset/benchmark/Set14/LR_BI/X4 ../../dataset/benchmark/Set14/LR_BI/X4\n",
      "mv ../../dataset/benchmark/Set14/LR_BI/X2 ../../dataset/benchmark/Set14/LR_BI/X2\n",
      "mv ../../dataset/benchmark/Set14/LR_BI/X3 ../../dataset/benchmark/Set14/LR_BI/X3\n",
      "mv ../../dataset/benchmark/Set14/LR_DN/X3 ../../dataset/benchmark/Set14/LR_DN/X3\n",
      "mv ../../dataset/benchmark/Set14/LR_BD/X3 ../../dataset/benchmark/Set14/LR_BD/X3\n",
      "mv ../../dataset/benchmark/Set14/LR_bicubic/X4 ../../dataset/benchmark/Set14/LR_bicubic/X4\n",
      "mv ../../dataset/benchmark/Set14/LR_bicubic/X2 ../../dataset/benchmark/Set14/LR_bicubic/X2\n",
      "mv ../../dataset/benchmark/Set14/LR_bicubic/X3 ../../dataset/benchmark/Set14/LR_bicubic/X3\n",
      "mv ../../dataset/benchmark/1080P/LR_BI/X8 ../../dataset/benchmark/1080P/LR_BI/X8\n",
      "mv ../../dataset/benchmark/1080P/LR_BI/X4 ../../dataset/benchmark/1080P/LR_BI/X4\n",
      "mv ../../dataset/benchmark/1080P/LR_BI/X2 ../../dataset/benchmark/1080P/LR_BI/X2\n",
      "mv ../../dataset/benchmark/1080P/LR_BI/X3 ../../dataset/benchmark/1080P/LR_BI/X3\n",
      "mv ../../dataset/benchmark/Classic5/LR_JPEG/Q30 ../../dataset/benchmark/Classic5/LR_JPEG/Q30\n",
      "mv ../../dataset/benchmark/Classic5/LR_JPEG/q20 ../../dataset/benchmark/Classic5/LR_JPEG/Q20\n"
     ]
    },
    {
     "ename": "OSError",
     "evalue": "[Errno 39] Directory not empty: '../../dataset/benchmark/Classic5/LR_JPEG/q20' -> '../../dataset/benchmark/Classic5/LR_JPEG/Q20'",
     "output_type": "error",
     "traceback": [
      "\u001b[0;31m---------------------------------------------------------------------------\u001b[0m",
      "\u001b[0;31mOSError\u001b[0m                                   Traceback (most recent call last)",
      "Cell \u001b[0;32mIn [2], line 17\u001b[0m\n\u001b[1;32m     15\u001b[0m \u001b[38;5;28mprint\u001b[39m(\u001b[38;5;124m'\u001b[39m\u001b[38;5;124mmv \u001b[39m\u001b[38;5;132;01m{}\u001b[39;00m\u001b[38;5;124m \u001b[39m\u001b[38;5;132;01m{}\u001b[39;00m\u001b[38;5;124m'\u001b[39m\u001b[38;5;241m.\u001b[39mformat(old, new))\n\u001b[1;32m     16\u001b[0m \u001b[38;5;66;03m# os.system('mv {} {}'.format(old, new))\u001b[39;00m\n\u001b[0;32m---> 17\u001b[0m \u001b[43mos\u001b[49m\u001b[38;5;241;43m.\u001b[39;49m\u001b[43mrename\u001b[49m\u001b[43m(\u001b[49m\u001b[43mold\u001b[49m\u001b[43m,\u001b[49m\u001b[43m \u001b[49m\u001b[43mnew\u001b[49m\u001b[43m)\u001b[49m\n",
      "\u001b[0;31mOSError\u001b[0m: [Errno 39] Directory not empty: '../../dataset/benchmark/Classic5/LR_JPEG/q20' -> '../../dataset/benchmark/Classic5/LR_JPEG/Q20'"
     ]
    }
   ],
   "source": [
    "import os\n",
    "\n",
    "baseDir = '../../dataset/benchmark'\n",
    "\n",
    "for dataset in os.listdir(baseDir):\n",
    "    dataDir = os.path.join(baseDir, dataset)\n",
    "    # print(dataDir)\n",
    "    for degra in os.listdir(dataDir):\n",
    "        degraDir = os.path.join(dataDir, degra)\n",
    "        # print(degraDir)\n",
    "        if degra != 'HR':\n",
    "            for scale in os.listdir(degraDir):\n",
    "                old = os.path.join(degraDir, scale)\n",
    "                new = os.path.join(degraDir, scale.replace('x', 'X').replace('k', 'K').replace('q', 'Q').replace('n', 'N'))\n",
    "                print('mv {} {}'.format(old, new))\n",
    "                # os.system('mv {} {}'.format(old, new))\n",
    "                os.rename(old, new)\n"
   ]
  },
  {
   "cell_type": "code",
   "execution_count": 12,
   "id": "a0ede768-acd2-4005-b9ba-56ad45a7e685",
   "metadata": {
    "execution": {
     "iopub.execute_input": "2023-05-26T07:41:29.489507Z",
     "iopub.status.busy": "2023-05-26T07:41:29.488813Z",
     "iopub.status.idle": "2023-05-26T07:41:29.498089Z",
     "shell.execute_reply": "2023-05-26T07:41:29.497154Z",
     "shell.execute_reply.started": "2023-05-26T07:41:29.489449Z"
    },
    "tags": []
   },
   "outputs": [
    {
     "data": {
      "text/plain": [
       "2"
      ]
     },
     "execution_count": 12,
     "metadata": {},
     "output_type": "execute_result"
    }
   ],
   "source": [
    "import numpy as np\n",
    "lr = np.ndarray()\n",
    "len(lr)"
   ]
  },
  {
   "cell_type": "code",
   "execution_count": 15,
   "id": "6043317e-7431-4213-9bd7-6f37dc3a2ede",
   "metadata": {
    "execution": {
     "iopub.execute_input": "2023-05-26T07:42:56.032293Z",
     "iopub.status.busy": "2023-05-26T07:42:56.031614Z",
     "iopub.status.idle": "2023-05-26T07:42:56.060068Z",
     "shell.execute_reply": "2023-05-26T07:42:56.058774Z",
     "shell.execute_reply.started": "2023-05-26T07:42:56.032211Z"
    },
    "tags": []
   },
   "outputs": [
    {
     "ename": "AttributeError",
     "evalue": "'list' object has no attribute 'shape'",
     "output_type": "error",
     "traceback": [
      "\u001b[0;31m---------------------------------------------------------------------------\u001b[0m",
      "\u001b[0;31mAttributeError\u001b[0m                            Traceback (most recent call last)",
      "Cell \u001b[0;32mIn [15], line 1\u001b[0m\n\u001b[0;32m----> 1\u001b[0m \u001b[43mlr\u001b[49m\u001b[38;5;241;43m.\u001b[39;49m\u001b[43mshape\u001b[49m\n",
      "\u001b[0;31mAttributeError\u001b[0m: 'list' object has no attribute 'shape'"
     ]
    }
   ],
   "source": [
    "lr.shape"
   ]
  },
  {
   "cell_type": "code",
   "execution_count": null,
   "id": "6a6a0c2b-1e82-453f-8b14-64e53cf49b99",
   "metadata": {},
   "outputs": [],
   "source": [
    "x = 0.0\n",
    "z = 1\n",
    "y = 1 if x == 0 if z == 1 else "
   ]
  }
 ],
 "metadata": {
  "kernelspec": {
   "display_name": "Python 3 (ipykernel)",
   "language": "python",
   "name": "python3"
  },
  "language_info": {
   "codemirror_mode": {
    "name": "ipython",
    "version": 3
   },
   "file_extension": ".py",
   "mimetype": "text/x-python",
   "name": "python",
   "nbconvert_exporter": "python",
   "pygments_lexer": "ipython3",
   "version": "3.9.17"
  }
 },
 "nbformat": 4,
 "nbformat_minor": 5
}
